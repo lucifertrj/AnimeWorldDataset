{
 "cells": [
  {
   "cell_type": "code",
   "execution_count": 1,
   "id": "5ad2fee3",
   "metadata": {},
   "outputs": [],
   "source": [
    "from bs4 import BeautifulSoup\n",
    "import requests\n",
    "import pandas as pd\n",
    "import csv\n",
    "import numpy as np"
   ]
  },
  {
   "cell_type": "code",
   "execution_count": 3,
   "id": "2f0f613f",
   "metadata": {},
   "outputs": [],
   "source": [
    "def scrap(year,season):\n",
    "    assert season.lower() == \"winter\" or season.lower() == \"summer\" or season.lower() == \"spring\"\n",
    "    URL = f\"https://myanimelist.net/anime/season/{year}/{season}\"\n",
    "    req = requests.get(URL)\n",
    "    soup = BeautifulSoup(req.content,'html.parser')\n",
    "    \n",
    "    container = soup.find_all('div',class_=\"js-anime-category-producer seasonal-anime js-seasonal-anime js-anime-type-all js-anime-type-1\")\n",
    "    anime_title = list()\n",
    "    genre = list()\n",
    "    description = list()\n",
    "    studio = list()\n",
    "    year = list()\n",
    "    rating = list()\n",
    "\n",
    "    rating.clear()\n",
    "    year.clear()\n",
    "    studio.clear()\n",
    "    anime_title.clear()\n",
    "    genre.clear()\n",
    "    description.clear()\n",
    "    \n",
    "    for anime in container:\n",
    "        title = anime.find(\"div\",class_=\"title\")\n",
    "        anime_title.append(title.find('h2',class_=\"h2_anime_title\").text.strip())\n",
    "        genre_container = anime.find(\"div\",class_=\"genres js-genre\")\n",
    "        check_genre = genre_container.find_all('span',class_=\"genre\")\n",
    "        release_year = anime.find(\"div\",class_=\"info\")\n",
    "\n",
    "        year.append(release_year.find('span',class_=\"item\").text.strip())\n",
    "        multiple = list()\n",
    "        if check_genre is not None:\n",
    "            if len(check_genre) == 1:\n",
    "                for i in check_genre:\n",
    "                    genre.append(i.text.strip())\n",
    "            else:\n",
    "                for i in check_genre:\n",
    "                    multiple.append(i.text.strip())\n",
    "                genre.append(multiple)\n",
    "        else:\n",
    "            genre.append(np.NaN)\n",
    "        synopsis = anime.find(\"div\",class_=\"synopsis js-synopsis\")\n",
    "        description.append(synopsis.find(\"p\",class_=\"preline\").text)\n",
    "\n",
    "        studio_property = anime.find('div',class_=\"properties\")\n",
    "        item = studio_property.find('a')\n",
    "        if item is not None:\n",
    "            studio.append(item.text)\n",
    "        else:\n",
    "            studio.append(np.NaN)\n",
    "\n",
    "        rating_container = anime.find(\"div\",class_=\"information\")\n",
    "        score_container = rating_container.find(\"div\",class_=\"scormem-container\")\n",
    "        star = score_container.find(\"div\",class_=\"scormem-item score score-label score-8\")\n",
    "        if star is not None:\n",
    "            rating.append(star.text.strip())\n",
    "        else:\n",
    "            rating.append(np.NaN)\n",
    "            \n",
    "    return anime_title,genre,description,studio,year,rating"
   ]
  },
  {
   "cell_type": "code",
   "execution_count": 4,
   "id": "fa7cc932",
   "metadata": {},
   "outputs": [],
   "source": [
    "data_scrap_1 = scrap(2020,\"summer\")"
   ]
  },
  {
   "cell_type": "markdown",
   "id": "dc2709c4",
   "metadata": {},
   "source": [
    "Note:\n",
    "\n",
    "- data_scrap_1[0] = Anime Title\n",
    "- data_scrap_1[1] = Genre\n",
    "- data_scrap_1[2] = Description\n",
    "- data_scrap_1[3] = Studio\n",
    "- data_scrap_1[4] = Year\n",
    "- data_scrap_1[5] = Rating"
   ]
  },
  {
   "cell_type": "code",
   "execution_count": 10,
   "id": "7cc6cc37",
   "metadata": {},
   "outputs": [],
   "source": [
    "data_scrap_2 = scrap(2020,\"spring\")"
   ]
  },
  {
   "cell_type": "code",
   "execution_count": 12,
   "id": "22729f77",
   "metadata": {},
   "outputs": [],
   "source": [
    "data_scrap_3 = scrap(2020,\"winter\")"
   ]
  },
  {
   "cell_type": "code",
   "execution_count": 14,
   "id": "bf06ef0d",
   "metadata": {},
   "outputs": [],
   "source": [
    "data_scrap_4 = scrap(2019,\"winter\")\n",
    "data_scrap_5 = scrap(2019,\"summer\")\n",
    "data_scrap_6 = scrap(2019,\"spring\")\n",
    "\n",
    "data_scrap_7 = scrap(2018,\"winter\")\n",
    "data_scrap_8 = scrap(2018,\"summer\")\n",
    "data_scrap_9 = scrap(2018,\"spring\")\n",
    "\n",
    "data_scrap_10 = scrap(2017,\"winter\")\n",
    "data_scrap_11 = scrap(2017,\"summer\")\n",
    "data_scrap_12 = scrap(2017,\"spring\")"
   ]
  },
  {
   "cell_type": "code",
   "execution_count": 15,
   "id": "3fb04685",
   "metadata": {},
   "outputs": [],
   "source": [
    "def make_df(scarped_data):\n",
    "    data = {\"Anime\":scarped_data[0],\"Genre\":scarped_data[1],\"Description\":scarped_data[2],\"Studio\":scarped_data[3],\"Year\":scarped_data[4],\"Rating\":scarped_data[5]}\n",
    "    return pd.DataFrame(data)"
   ]
  },
  {
   "cell_type": "code",
   "execution_count": 16,
   "id": "05f63155",
   "metadata": {},
   "outputs": [],
   "source": [
    "df = make_df(data_scrap_1)"
   ]
  },
  {
   "cell_type": "code",
   "execution_count": 17,
   "id": "0ed09238",
   "metadata": {},
   "outputs": [
    {
     "data": {
      "text/html": [
       "<div>\n",
       "<style scoped>\n",
       "    .dataframe tbody tr th:only-of-type {\n",
       "        vertical-align: middle;\n",
       "    }\n",
       "\n",
       "    .dataframe tbody tr th {\n",
       "        vertical-align: top;\n",
       "    }\n",
       "\n",
       "    .dataframe thead th {\n",
       "        text-align: right;\n",
       "    }\n",
       "</style>\n",
       "<table border=\"1\" class=\"dataframe\">\n",
       "  <thead>\n",
       "    <tr style=\"text-align: right;\">\n",
       "      <th></th>\n",
       "      <th>Anime</th>\n",
       "      <th>Genre</th>\n",
       "      <th>Description</th>\n",
       "      <th>Studio</th>\n",
       "      <th>Year</th>\n",
       "      <th>Rating</th>\n",
       "    </tr>\n",
       "  </thead>\n",
       "  <tbody>\n",
       "    <tr>\n",
       "      <th>0</th>\n",
       "      <td>Re:Zero kara Hajimeru Isekai Seikatsu 2nd Season</td>\n",
       "      <td>[Drama, Fantasy, Suspense]</td>\n",
       "      <td>A reunion that was supposed to spell the arriv...</td>\n",
       "      <td>White Fox</td>\n",
       "      <td>Jul 8, 2020</td>\n",
       "      <td>8.37</td>\n",
       "    </tr>\n",
       "    <tr>\n",
       "      <th>1</th>\n",
       "      <td>Kanojo, Okarishimasu</td>\n",
       "      <td>[Comedy, Romance]</td>\n",
       "      <td>Kazuya Kinoshita is a 20-year-old college stud...</td>\n",
       "      <td>TMS Entertainment</td>\n",
       "      <td>Jul 11, 2020</td>\n",
       "      <td>NaN</td>\n",
       "    </tr>\n",
       "    <tr>\n",
       "      <th>2</th>\n",
       "      <td>The God of High School</td>\n",
       "      <td>[Action, Fantasy, Sci-Fi, Supernatural]</td>\n",
       "      <td>The \"God of High School\" tournament has begun,...</td>\n",
       "      <td>MAPPA</td>\n",
       "      <td>Jul 6, 2020</td>\n",
       "      <td>NaN</td>\n",
       "    </tr>\n",
       "    <tr>\n",
       "      <th>3</th>\n",
       "      <td>Maou Gakuin no Futekigousha: Shijou Saikyou no...</td>\n",
       "      <td>[Action, Fantasy]</td>\n",
       "      <td>In the distant past, a war between humans and ...</td>\n",
       "      <td>SILVER LINK.</td>\n",
       "      <td>Jul 4, 2020</td>\n",
       "      <td>NaN</td>\n",
       "    </tr>\n",
       "    <tr>\n",
       "      <th>4</th>\n",
       "      <td>Enen no Shouboutai: Ni no Shou</td>\n",
       "      <td>[Action, Supernatural]</td>\n",
       "      <td>After his confrontation in the Nether with his...</td>\n",
       "      <td>David Production</td>\n",
       "      <td>Jul 4, 2020</td>\n",
       "      <td>NaN</td>\n",
       "    </tr>\n",
       "    <tr>\n",
       "      <th>...</th>\n",
       "      <td>...</td>\n",
       "      <td>...</td>\n",
       "      <td>...</td>\n",
       "      <td>...</td>\n",
       "      <td>...</td>\n",
       "      <td>...</td>\n",
       "    </tr>\n",
       "    <tr>\n",
       "      <th>61</th>\n",
       "      <td>Marumaru Manul</td>\n",
       "      <td>Comedy</td>\n",
       "      <td>The comedy story follows the daily life of a s...</td>\n",
       "      <td>Kachidoki Studio</td>\n",
       "      <td>Jan 6, 2020</td>\n",
       "      <td>NaN</td>\n",
       "    </tr>\n",
       "    <tr>\n",
       "      <th>62</th>\n",
       "      <td>Neko to Mata</td>\n",
       "      <td>Supernatural</td>\n",
       "      <td>The series centers around two cats: a younger ...</td>\n",
       "      <td>NaN</td>\n",
       "      <td>Apr 21, 2017</td>\n",
       "      <td>NaN</td>\n",
       "    </tr>\n",
       "    <tr>\n",
       "      <th>63</th>\n",
       "      <td>Kirin the Noop</td>\n",
       "      <td>Adventure</td>\n",
       "      <td>A shadow painting anime about a timid giraffe ...</td>\n",
       "      <td>NaN</td>\n",
       "      <td>Feb 6, 2014</td>\n",
       "      <td>NaN</td>\n",
       "    </tr>\n",
       "    <tr>\n",
       "      <th>64</th>\n",
       "      <td>Manul no Yuube</td>\n",
       "      <td>Slice of Life</td>\n",
       "      <td>Within the nature \"Darwin Kita! Kikimono Shin ...</td>\n",
       "      <td>NaN</td>\n",
       "      <td>Nov 11, 2018</td>\n",
       "      <td>NaN</td>\n",
       "    </tr>\n",
       "    <tr>\n",
       "      <th>65</th>\n",
       "      <td>Ma-eum-uisoli Season 2</td>\n",
       "      <td>[Comedy, Slice of Life]</td>\n",
       "      <td>Second season of Ma-eum-uisoli.</td>\n",
       "      <td>NaN</td>\n",
       "      <td>May 19, 2020</td>\n",
       "      <td>NaN</td>\n",
       "    </tr>\n",
       "  </tbody>\n",
       "</table>\n",
       "<p>66 rows × 6 columns</p>\n",
       "</div>"
      ],
      "text/plain": [
       "                                                Anime  \\\n",
       "0    Re:Zero kara Hajimeru Isekai Seikatsu 2nd Season   \n",
       "1                                Kanojo, Okarishimasu   \n",
       "2                              The God of High School   \n",
       "3   Maou Gakuin no Futekigousha: Shijou Saikyou no...   \n",
       "4                      Enen no Shouboutai: Ni no Shou   \n",
       "..                                                ...   \n",
       "61                                     Marumaru Manul   \n",
       "62                                       Neko to Mata   \n",
       "63                                     Kirin the Noop   \n",
       "64                                     Manul no Yuube   \n",
       "65                             Ma-eum-uisoli Season 2   \n",
       "\n",
       "                                      Genre  \\\n",
       "0                [Drama, Fantasy, Suspense]   \n",
       "1                         [Comedy, Romance]   \n",
       "2   [Action, Fantasy, Sci-Fi, Supernatural]   \n",
       "3                         [Action, Fantasy]   \n",
       "4                    [Action, Supernatural]   \n",
       "..                                      ...   \n",
       "61                                   Comedy   \n",
       "62                             Supernatural   \n",
       "63                                Adventure   \n",
       "64                            Slice of Life   \n",
       "65                  [Comedy, Slice of Life]   \n",
       "\n",
       "                                          Description             Studio  \\\n",
       "0   A reunion that was supposed to spell the arriv...          White Fox   \n",
       "1   Kazuya Kinoshita is a 20-year-old college stud...  TMS Entertainment   \n",
       "2   The \"God of High School\" tournament has begun,...              MAPPA   \n",
       "3   In the distant past, a war between humans and ...       SILVER LINK.   \n",
       "4   After his confrontation in the Nether with his...   David Production   \n",
       "..                                                ...                ...   \n",
       "61  The comedy story follows the daily life of a s...   Kachidoki Studio   \n",
       "62  The series centers around two cats: a younger ...                NaN   \n",
       "63  A shadow painting anime about a timid giraffe ...                NaN   \n",
       "64  Within the nature \"Darwin Kita! Kikimono Shin ...                NaN   \n",
       "65                    Second season of Ma-eum-uisoli.                NaN   \n",
       "\n",
       "            Year Rating  \n",
       "0    Jul 8, 2020   8.37  \n",
       "1   Jul 11, 2020    NaN  \n",
       "2    Jul 6, 2020    NaN  \n",
       "3    Jul 4, 2020    NaN  \n",
       "4    Jul 4, 2020    NaN  \n",
       "..           ...    ...  \n",
       "61   Jan 6, 2020    NaN  \n",
       "62  Apr 21, 2017    NaN  \n",
       "63   Feb 6, 2014    NaN  \n",
       "64  Nov 11, 2018    NaN  \n",
       "65  May 19, 2020    NaN  \n",
       "\n",
       "[66 rows x 6 columns]"
      ]
     },
     "execution_count": 17,
     "metadata": {},
     "output_type": "execute_result"
    }
   ],
   "source": [
    "df"
   ]
  },
  {
   "cell_type": "code",
   "execution_count": 21,
   "id": "256b2c9c",
   "metadata": {},
   "outputs": [],
   "source": [
    "df2 = make_df(data_scrap_2)"
   ]
  },
  {
   "cell_type": "code",
   "execution_count": 22,
   "id": "fb8bc3c4",
   "metadata": {},
   "outputs": [],
   "source": [
    "df3 = make_df(data_scrap_3)"
   ]
  },
  {
   "cell_type": "code",
   "execution_count": 25,
   "id": "329b5d00",
   "metadata": {},
   "outputs": [],
   "source": [
    "df4 = make_df(data_scrap_4)"
   ]
  },
  {
   "cell_type": "code",
   "execution_count": 26,
   "id": "650fe9eb",
   "metadata": {},
   "outputs": [],
   "source": [
    "df5 = make_df(data_scrap_5)\n",
    "df6 = make_df(data_scrap_6)\n",
    "df7 = make_df(data_scrap_7)\n",
    "\n",
    "df8 = make_df(data_scrap_8)\n",
    "df9 = make_df(data_scrap_9)\n",
    "df10 = make_df(data_scrap_10)\n",
    "df11 = make_df(data_scrap_11)\n",
    "df12 = make_df(data_scrap_12)"
   ]
  },
  {
   "cell_type": "code",
   "execution_count": 69,
   "id": "5352181d",
   "metadata": {},
   "outputs": [],
   "source": [
    "final_df = pd.concat([df,df2,df3,df4,df5,df6,df7,df8,df9,df10,df11,df12])"
   ]
  },
  {
   "cell_type": "code",
   "execution_count": 70,
   "id": "329b4fc4",
   "metadata": {},
   "outputs": [
    {
     "data": {
      "text/html": [
       "<div>\n",
       "<style scoped>\n",
       "    .dataframe tbody tr th:only-of-type {\n",
       "        vertical-align: middle;\n",
       "    }\n",
       "\n",
       "    .dataframe tbody tr th {\n",
       "        vertical-align: top;\n",
       "    }\n",
       "\n",
       "    .dataframe thead th {\n",
       "        text-align: right;\n",
       "    }\n",
       "</style>\n",
       "<table border=\"1\" class=\"dataframe\">\n",
       "  <thead>\n",
       "    <tr style=\"text-align: right;\">\n",
       "      <th></th>\n",
       "      <th>Anime</th>\n",
       "      <th>Genre</th>\n",
       "      <th>Description</th>\n",
       "      <th>Studio</th>\n",
       "      <th>Year</th>\n",
       "      <th>Rating</th>\n",
       "    </tr>\n",
       "  </thead>\n",
       "  <tbody>\n",
       "    <tr>\n",
       "      <th>0</th>\n",
       "      <td>Re:Zero kara Hajimeru Isekai Seikatsu 2nd Season</td>\n",
       "      <td>[Drama, Fantasy, Suspense]</td>\n",
       "      <td>A reunion that was supposed to spell the arriv...</td>\n",
       "      <td>White Fox</td>\n",
       "      <td>Jul 8, 2020</td>\n",
       "      <td>8.37</td>\n",
       "    </tr>\n",
       "    <tr>\n",
       "      <th>1</th>\n",
       "      <td>Kanojo, Okarishimasu</td>\n",
       "      <td>[Comedy, Romance]</td>\n",
       "      <td>Kazuya Kinoshita is a 20-year-old college stud...</td>\n",
       "      <td>TMS Entertainment</td>\n",
       "      <td>Jul 11, 2020</td>\n",
       "      <td>NaN</td>\n",
       "    </tr>\n",
       "    <tr>\n",
       "      <th>2</th>\n",
       "      <td>The God of High School</td>\n",
       "      <td>[Action, Fantasy, Sci-Fi, Supernatural]</td>\n",
       "      <td>The \"God of High School\" tournament has begun,...</td>\n",
       "      <td>MAPPA</td>\n",
       "      <td>Jul 6, 2020</td>\n",
       "      <td>NaN</td>\n",
       "    </tr>\n",
       "    <tr>\n",
       "      <th>3</th>\n",
       "      <td>Maou Gakuin no Futekigousha: Shijou Saikyou no...</td>\n",
       "      <td>[Action, Fantasy]</td>\n",
       "      <td>In the distant past, a war between humans and ...</td>\n",
       "      <td>SILVER LINK.</td>\n",
       "      <td>Jul 4, 2020</td>\n",
       "      <td>NaN</td>\n",
       "    </tr>\n",
       "    <tr>\n",
       "      <th>4</th>\n",
       "      <td>Enen no Shouboutai: Ni no Shou</td>\n",
       "      <td>[Action, Supernatural]</td>\n",
       "      <td>After his confrontation in the Nether with his...</td>\n",
       "      <td>David Production</td>\n",
       "      <td>Jul 4, 2020</td>\n",
       "      <td>NaN</td>\n",
       "    </tr>\n",
       "  </tbody>\n",
       "</table>\n",
       "</div>"
      ],
      "text/plain": [
       "                                               Anime  \\\n",
       "0   Re:Zero kara Hajimeru Isekai Seikatsu 2nd Season   \n",
       "1                               Kanojo, Okarishimasu   \n",
       "2                             The God of High School   \n",
       "3  Maou Gakuin no Futekigousha: Shijou Saikyou no...   \n",
       "4                     Enen no Shouboutai: Ni no Shou   \n",
       "\n",
       "                                     Genre  \\\n",
       "0               [Drama, Fantasy, Suspense]   \n",
       "1                        [Comedy, Romance]   \n",
       "2  [Action, Fantasy, Sci-Fi, Supernatural]   \n",
       "3                        [Action, Fantasy]   \n",
       "4                   [Action, Supernatural]   \n",
       "\n",
       "                                         Description             Studio  \\\n",
       "0  A reunion that was supposed to spell the arriv...          White Fox   \n",
       "1  Kazuya Kinoshita is a 20-year-old college stud...  TMS Entertainment   \n",
       "2  The \"God of High School\" tournament has begun,...              MAPPA   \n",
       "3  In the distant past, a war between humans and ...       SILVER LINK.   \n",
       "4  After his confrontation in the Nether with his...   David Production   \n",
       "\n",
       "           Year Rating  \n",
       "0   Jul 8, 2020   8.37  \n",
       "1  Jul 11, 2020    NaN  \n",
       "2   Jul 6, 2020    NaN  \n",
       "3   Jul 4, 2020    NaN  \n",
       "4   Jul 4, 2020    NaN  "
      ]
     },
     "execution_count": 70,
     "metadata": {},
     "output_type": "execute_result"
    }
   ],
   "source": [
    "final_df.head()"
   ]
  },
  {
   "cell_type": "code",
   "execution_count": 71,
   "id": "a5b51e45",
   "metadata": {},
   "outputs": [
    {
     "data": {
      "text/plain": [
       "(1013, 6)"
      ]
     },
     "execution_count": 71,
     "metadata": {},
     "output_type": "execute_result"
    }
   ],
   "source": [
    "final_df.shape"
   ]
  },
  {
   "cell_type": "code",
   "execution_count": 72,
   "id": "0d4cb30a",
   "metadata": {},
   "outputs": [
    {
     "data": {
      "text/plain": [
       "Anime            0\n",
       "Genre            0\n",
       "Description      0\n",
       "Studio          75\n",
       "Year             0\n",
       "Rating         898\n",
       "dtype: int64"
      ]
     },
     "execution_count": 72,
     "metadata": {},
     "output_type": "execute_result"
    }
   ],
   "source": [
    "final_df.isnull().sum()"
   ]
  },
  {
   "cell_type": "code",
   "execution_count": 73,
   "id": "b91a83f4",
   "metadata": {},
   "outputs": [],
   "source": [
    "data_scrap_13 = scrap(2016,\"winter\")\n",
    "data_scrap_14 = scrap(2016,\"summer\")\n",
    "data_scrap_15 = scrap(2016,\"spring\")"
   ]
  },
  {
   "cell_type": "code",
   "execution_count": 74,
   "id": "6a4733e6",
   "metadata": {},
   "outputs": [],
   "source": [
    "df13 = make_df(data_scrap_13)\n",
    "df14 = make_df(data_scrap_14)\n",
    "df15 = make_df(data_scrap_15)"
   ]
  },
  {
   "cell_type": "code",
   "execution_count": 75,
   "id": "6306ee85",
   "metadata": {},
   "outputs": [],
   "source": [
    "anime_df = pd.concat([final_df,df13,df14,df15])"
   ]
  },
  {
   "cell_type": "code",
   "execution_count": 76,
   "id": "6e7946da",
   "metadata": {},
   "outputs": [
    {
     "data": {
      "text/plain": [
       "<bound method DataFrame.duplicated of                                                 Anime  \\\n",
       "0    Re:Zero kara Hajimeru Isekai Seikatsu 2nd Season   \n",
       "1                                Kanojo, Okarishimasu   \n",
       "2                              The God of High School   \n",
       "3   Maou Gakuin no Futekigousha: Shijou Saikyou no...   \n",
       "4                      Enen no Shouboutai: Ni no Shou   \n",
       "..                                                ...   \n",
       "76                                            Xia Lan   \n",
       "77                      Bary-san no Imabari-ben Kouza   \n",
       "78                                           Nyanfuru   \n",
       "79                                     Kirin the Noop   \n",
       "80                                        Telemonster   \n",
       "\n",
       "                                                Genre  \\\n",
       "0                          [Drama, Fantasy, Suspense]   \n",
       "1                                   [Comedy, Romance]   \n",
       "2             [Action, Fantasy, Sci-Fi, Supernatural]   \n",
       "3                                   [Action, Fantasy]   \n",
       "4                              [Action, Supernatural]   \n",
       "..                                                ...   \n",
       "76  [Action, Adventure, Drama, Fantasy, Supernatural]   \n",
       "77                                             Comedy   \n",
       "78                                             Comedy   \n",
       "79                                          Adventure   \n",
       "80                                          Adventure   \n",
       "\n",
       "                                          Description                 Studio  \\\n",
       "0   A reunion that was supposed to spell the arriv...              White Fox   \n",
       "1   Kazuya Kinoshita is a 20-year-old college stud...      TMS Entertainment   \n",
       "2   The \"God of High School\" tournament has begun,...                  MAPPA   \n",
       "3   In the distant past, a war between humans and ...           SILVER LINK.   \n",
       "4   After his confrontation in the Nether with his...       David Production   \n",
       "..                                                ...                    ...   \n",
       "76  When Nian Chi was a young child, his elder sis...  Beijing Rocen Digital   \n",
       "77           Stars Ehime Prefecture's mascot Barysan.       Kachidoki Studio   \n",
       "78  Shorts that feature music note cats. The serie...                  MMDGP   \n",
       "79  A shadow painting anime about a timid giraffe ...                    NaN   \n",
       "80  Korean Animation about the monsters Eerie, Roc...                    NaN   \n",
       "\n",
       "            Year Rating  \n",
       "0    Jul 8, 2020   8.37  \n",
       "1   Jul 11, 2020    NaN  \n",
       "2    Jul 6, 2020    NaN  \n",
       "3    Jul 4, 2020    NaN  \n",
       "4    Jul 4, 2020    NaN  \n",
       "..           ...    ...  \n",
       "76  Jan 29, 2012    NaN  \n",
       "77   Jul 7, 2015    NaN  \n",
       "78  Feb 22, 2014    NaN  \n",
       "79   Feb 6, 2014    NaN  \n",
       "80  Feb 28, 2016    NaN  \n",
       "\n",
       "[1272 rows x 6 columns]>"
      ]
     },
     "execution_count": 76,
     "metadata": {},
     "output_type": "execute_result"
    }
   ],
   "source": [
    "anime_df.duplicated"
   ]
  },
  {
   "cell_type": "code",
   "execution_count": 77,
   "id": "13c8c48c",
   "metadata": {},
   "outputs": [
    {
     "data": {
      "text/plain": [
       "(1272, 6)"
      ]
     },
     "execution_count": 77,
     "metadata": {},
     "output_type": "execute_result"
    }
   ],
   "source": [
    "anime_df.shape"
   ]
  },
  {
   "cell_type": "code",
   "execution_count": 37,
   "id": "d33178a9",
   "metadata": {},
   "outputs": [],
   "source": [
    "data_scrap_16 = scrap(2015,\"winter\")\n",
    "data_scrap_17 = scrap(2015,\"summer\")\n",
    "data_scrap_18 = scrap(2015,\"spring\")"
   ]
  },
  {
   "cell_type": "code",
   "execution_count": 78,
   "id": "d60efbc4",
   "metadata": {},
   "outputs": [],
   "source": [
    "df16 = make_df(data_scrap_16)\n",
    "df17 = make_df(data_scrap_17)\n",
    "df18 = make_df(data_scrap_18)"
   ]
  },
  {
   "cell_type": "code",
   "execution_count": 79,
   "id": "4575b304",
   "metadata": {},
   "outputs": [],
   "source": [
    "anime_df = pd.concat([anime_df,df16,df17,df18])"
   ]
  },
  {
   "cell_type": "code",
   "execution_count": 80,
   "id": "3e7427d1",
   "metadata": {},
   "outputs": [
    {
     "data": {
      "text/plain": [
       "(1541, 6)"
      ]
     },
     "execution_count": 80,
     "metadata": {},
     "output_type": "execute_result"
    }
   ],
   "source": [
    "anime_df.shape"
   ]
  },
  {
   "cell_type": "code",
   "execution_count": 81,
   "id": "b0613650",
   "metadata": {
    "scrolled": true
   },
   "outputs": [
    {
     "data": {
      "text/plain": [
       "pandas.core.frame.DataFrame"
      ]
     },
     "execution_count": 81,
     "metadata": {},
     "output_type": "execute_result"
    }
   ],
   "source": [
    "type(anime_df)"
   ]
  },
  {
   "cell_type": "code",
   "execution_count": 82,
   "id": "6d810ad0",
   "metadata": {},
   "outputs": [],
   "source": [
    "anime_df['Anime'] = anime_df['Anime'].apply(str)"
   ]
  },
  {
   "cell_type": "code",
   "execution_count": 83,
   "id": "8b0ee658",
   "metadata": {},
   "outputs": [],
   "source": [
    "anime_df['Description'] = anime_df['Description'].apply(str)\n",
    "anime_df['Studio'] = anime_df['Studio'].apply(str)"
   ]
  },
  {
   "cell_type": "code",
   "execution_count": 84,
   "id": "2b85bada",
   "metadata": {},
   "outputs": [],
   "source": [
    "anime_df['Rating'] = anime_df['Rating'].apply(float)"
   ]
  },
  {
   "cell_type": "code",
   "execution_count": 85,
   "id": "ea4a013c",
   "metadata": {},
   "outputs": [
    {
     "name": "stdout",
     "output_type": "stream",
     "text": [
      "<class 'pandas.core.frame.DataFrame'>\n",
      "Int64Index: 1541 entries, 0 to 82\n",
      "Data columns (total 6 columns):\n",
      " #   Column       Non-Null Count  Dtype  \n",
      "---  ------       --------------  -----  \n",
      " 0   Anime        1541 non-null   object \n",
      " 1   Genre        1541 non-null   object \n",
      " 2   Description  1541 non-null   object \n",
      " 3   Studio       1541 non-null   object \n",
      " 4   Year         1541 non-null   object \n",
      " 5   Rating       173 non-null    float64\n",
      "dtypes: float64(1), object(5)\n",
      "memory usage: 84.3+ KB\n"
     ]
    }
   ],
   "source": [
    "anime_df.info()"
   ]
  },
  {
   "cell_type": "code",
   "execution_count": 86,
   "id": "b3dd16dd",
   "metadata": {},
   "outputs": [
    {
     "data": {
      "text/plain": [
       "0                  [Drama, Fantasy, Suspense]\n",
       "1                           [Comedy, Romance]\n",
       "2     [Action, Fantasy, Sci-Fi, Supernatural]\n",
       "3                           [Action, Fantasy]\n",
       "4                      [Action, Supernatural]\n",
       "                       ...                   \n",
       "78                                  Adventure\n",
       "79                              Slice of Life\n",
       "80                                     Comedy\n",
       "81                              Slice of Life\n",
       "82                                     Comedy\n",
       "Name: Genre, Length: 1541, dtype: object"
      ]
     },
     "execution_count": 86,
     "metadata": {},
     "output_type": "execute_result"
    }
   ],
   "source": [
    "anime_df['Genre']"
   ]
  },
  {
   "cell_type": "code",
   "execution_count": 88,
   "id": "add6ab11",
   "metadata": {},
   "outputs": [],
   "source": [
    "anime_df['Genre'] = anime_df['Genre'].apply(str)"
   ]
  },
  {
   "cell_type": "code",
   "execution_count": 89,
   "id": "339d8155",
   "metadata": {},
   "outputs": [
    {
     "data": {
      "text/html": [
       "<div>\n",
       "<style scoped>\n",
       "    .dataframe tbody tr th:only-of-type {\n",
       "        vertical-align: middle;\n",
       "    }\n",
       "\n",
       "    .dataframe tbody tr th {\n",
       "        vertical-align: top;\n",
       "    }\n",
       "\n",
       "    .dataframe thead th {\n",
       "        text-align: right;\n",
       "    }\n",
       "</style>\n",
       "<table border=\"1\" class=\"dataframe\">\n",
       "  <thead>\n",
       "    <tr style=\"text-align: right;\">\n",
       "      <th></th>\n",
       "      <th>Anime</th>\n",
       "      <th>Genre</th>\n",
       "      <th>Description</th>\n",
       "      <th>Studio</th>\n",
       "      <th>Year</th>\n",
       "      <th>Rating</th>\n",
       "    </tr>\n",
       "  </thead>\n",
       "  <tbody>\n",
       "    <tr>\n",
       "      <th>0</th>\n",
       "      <td>Re:Zero kara Hajimeru Isekai Seikatsu 2nd Season</td>\n",
       "      <td>['Drama', 'Fantasy', 'Suspense']</td>\n",
       "      <td>A reunion that was supposed to spell the arriv...</td>\n",
       "      <td>White Fox</td>\n",
       "      <td>Jul 8, 2020</td>\n",
       "      <td>8.37</td>\n",
       "    </tr>\n",
       "    <tr>\n",
       "      <th>1</th>\n",
       "      <td>Kanojo, Okarishimasu</td>\n",
       "      <td>['Comedy', 'Romance']</td>\n",
       "      <td>Kazuya Kinoshita is a 20-year-old college stud...</td>\n",
       "      <td>TMS Entertainment</td>\n",
       "      <td>Jul 11, 2020</td>\n",
       "      <td>NaN</td>\n",
       "    </tr>\n",
       "    <tr>\n",
       "      <th>2</th>\n",
       "      <td>The God of High School</td>\n",
       "      <td>['Action', 'Fantasy', 'Sci-Fi', 'Supernatural']</td>\n",
       "      <td>The \"God of High School\" tournament has begun,...</td>\n",
       "      <td>MAPPA</td>\n",
       "      <td>Jul 6, 2020</td>\n",
       "      <td>NaN</td>\n",
       "    </tr>\n",
       "    <tr>\n",
       "      <th>3</th>\n",
       "      <td>Maou Gakuin no Futekigousha: Shijou Saikyou no...</td>\n",
       "      <td>['Action', 'Fantasy']</td>\n",
       "      <td>In the distant past, a war between humans and ...</td>\n",
       "      <td>SILVER LINK.</td>\n",
       "      <td>Jul 4, 2020</td>\n",
       "      <td>NaN</td>\n",
       "    </tr>\n",
       "    <tr>\n",
       "      <th>4</th>\n",
       "      <td>Enen no Shouboutai: Ni no Shou</td>\n",
       "      <td>['Action', 'Supernatural']</td>\n",
       "      <td>After his confrontation in the Nether with his...</td>\n",
       "      <td>David Production</td>\n",
       "      <td>Jul 4, 2020</td>\n",
       "      <td>NaN</td>\n",
       "    </tr>\n",
       "    <tr>\n",
       "      <th>5</th>\n",
       "      <td>Yahari Ore no Seishun Love Comedy wa Machigatt...</td>\n",
       "      <td>['Comedy', 'Romance']</td>\n",
       "      <td>Resolved to become a more independent person, ...</td>\n",
       "      <td>feel.</td>\n",
       "      <td>Jul 10, 2020</td>\n",
       "      <td>8.38</td>\n",
       "    </tr>\n",
       "  </tbody>\n",
       "</table>\n",
       "</div>"
      ],
      "text/plain": [
       "                                               Anime  \\\n",
       "0   Re:Zero kara Hajimeru Isekai Seikatsu 2nd Season   \n",
       "1                               Kanojo, Okarishimasu   \n",
       "2                             The God of High School   \n",
       "3  Maou Gakuin no Futekigousha: Shijou Saikyou no...   \n",
       "4                     Enen no Shouboutai: Ni no Shou   \n",
       "5  Yahari Ore no Seishun Love Comedy wa Machigatt...   \n",
       "\n",
       "                                             Genre  \\\n",
       "0                 ['Drama', 'Fantasy', 'Suspense']   \n",
       "1                            ['Comedy', 'Romance']   \n",
       "2  ['Action', 'Fantasy', 'Sci-Fi', 'Supernatural']   \n",
       "3                            ['Action', 'Fantasy']   \n",
       "4                       ['Action', 'Supernatural']   \n",
       "5                            ['Comedy', 'Romance']   \n",
       "\n",
       "                                         Description             Studio  \\\n",
       "0  A reunion that was supposed to spell the arriv...          White Fox   \n",
       "1  Kazuya Kinoshita is a 20-year-old college stud...  TMS Entertainment   \n",
       "2  The \"God of High School\" tournament has begun,...              MAPPA   \n",
       "3  In the distant past, a war between humans and ...       SILVER LINK.   \n",
       "4  After his confrontation in the Nether with his...   David Production   \n",
       "5  Resolved to become a more independent person, ...              feel.   \n",
       "\n",
       "           Year  Rating  \n",
       "0   Jul 8, 2020    8.37  \n",
       "1  Jul 11, 2020     NaN  \n",
       "2   Jul 6, 2020     NaN  \n",
       "3   Jul 4, 2020     NaN  \n",
       "4   Jul 4, 2020     NaN  \n",
       "5  Jul 10, 2020    8.38  "
      ]
     },
     "execution_count": 89,
     "metadata": {},
     "output_type": "execute_result"
    }
   ],
   "source": [
    "anime_df.head(6)"
   ]
  },
  {
   "cell_type": "code",
   "execution_count": 91,
   "id": "9fe77330",
   "metadata": {},
   "outputs": [],
   "source": [
    "anime_df.drop_duplicates(inplace=True)"
   ]
  },
  {
   "cell_type": "code",
   "execution_count": 92,
   "id": "b8359aa8",
   "metadata": {},
   "outputs": [
    {
     "data": {
      "text/plain": [
       "(1005, 6)"
      ]
     },
     "execution_count": 92,
     "metadata": {},
     "output_type": "execute_result"
    }
   ],
   "source": [
    "anime_df.shape"
   ]
  },
  {
   "cell_type": "code",
   "execution_count": 93,
   "id": "ddd3f66f",
   "metadata": {},
   "outputs": [
    {
     "data": {
      "text/html": [
       "<div>\n",
       "<style scoped>\n",
       "    .dataframe tbody tr th:only-of-type {\n",
       "        vertical-align: middle;\n",
       "    }\n",
       "\n",
       "    .dataframe tbody tr th {\n",
       "        vertical-align: top;\n",
       "    }\n",
       "\n",
       "    .dataframe thead th {\n",
       "        text-align: right;\n",
       "    }\n",
       "</style>\n",
       "<table border=\"1\" class=\"dataframe\">\n",
       "  <thead>\n",
       "    <tr style=\"text-align: right;\">\n",
       "      <th></th>\n",
       "      <th>Anime</th>\n",
       "      <th>Genre</th>\n",
       "      <th>Description</th>\n",
       "      <th>Studio</th>\n",
       "      <th>Year</th>\n",
       "      <th>Rating</th>\n",
       "    </tr>\n",
       "  </thead>\n",
       "  <tbody>\n",
       "    <tr>\n",
       "      <th>0</th>\n",
       "      <td>Re:Zero kara Hajimeru Isekai Seikatsu 2nd Season</td>\n",
       "      <td>['Drama', 'Fantasy', 'Suspense']</td>\n",
       "      <td>A reunion that was supposed to spell the arriv...</td>\n",
       "      <td>White Fox</td>\n",
       "      <td>Jul 8, 2020</td>\n",
       "      <td>8.37</td>\n",
       "    </tr>\n",
       "    <tr>\n",
       "      <th>1</th>\n",
       "      <td>Kanojo, Okarishimasu</td>\n",
       "      <td>['Comedy', 'Romance']</td>\n",
       "      <td>Kazuya Kinoshita is a 20-year-old college stud...</td>\n",
       "      <td>TMS Entertainment</td>\n",
       "      <td>Jul 11, 2020</td>\n",
       "      <td>NaN</td>\n",
       "    </tr>\n",
       "    <tr>\n",
       "      <th>2</th>\n",
       "      <td>The God of High School</td>\n",
       "      <td>['Action', 'Fantasy', 'Sci-Fi', 'Supernatural']</td>\n",
       "      <td>The \"God of High School\" tournament has begun,...</td>\n",
       "      <td>MAPPA</td>\n",
       "      <td>Jul 6, 2020</td>\n",
       "      <td>NaN</td>\n",
       "    </tr>\n",
       "    <tr>\n",
       "      <th>3</th>\n",
       "      <td>Maou Gakuin no Futekigousha: Shijou Saikyou no...</td>\n",
       "      <td>['Action', 'Fantasy']</td>\n",
       "      <td>In the distant past, a war between humans and ...</td>\n",
       "      <td>SILVER LINK.</td>\n",
       "      <td>Jul 4, 2020</td>\n",
       "      <td>NaN</td>\n",
       "    </tr>\n",
       "    <tr>\n",
       "      <th>4</th>\n",
       "      <td>Enen no Shouboutai: Ni no Shou</td>\n",
       "      <td>['Action', 'Supernatural']</td>\n",
       "      <td>After his confrontation in the Nether with his...</td>\n",
       "      <td>David Production</td>\n",
       "      <td>Jul 4, 2020</td>\n",
       "      <td>NaN</td>\n",
       "    </tr>\n",
       "  </tbody>\n",
       "</table>\n",
       "</div>"
      ],
      "text/plain": [
       "                                               Anime  \\\n",
       "0   Re:Zero kara Hajimeru Isekai Seikatsu 2nd Season   \n",
       "1                               Kanojo, Okarishimasu   \n",
       "2                             The God of High School   \n",
       "3  Maou Gakuin no Futekigousha: Shijou Saikyou no...   \n",
       "4                     Enen no Shouboutai: Ni no Shou   \n",
       "\n",
       "                                             Genre  \\\n",
       "0                 ['Drama', 'Fantasy', 'Suspense']   \n",
       "1                            ['Comedy', 'Romance']   \n",
       "2  ['Action', 'Fantasy', 'Sci-Fi', 'Supernatural']   \n",
       "3                            ['Action', 'Fantasy']   \n",
       "4                       ['Action', 'Supernatural']   \n",
       "\n",
       "                                         Description             Studio  \\\n",
       "0  A reunion that was supposed to spell the arriv...          White Fox   \n",
       "1  Kazuya Kinoshita is a 20-year-old college stud...  TMS Entertainment   \n",
       "2  The \"God of High School\" tournament has begun,...              MAPPA   \n",
       "3  In the distant past, a war between humans and ...       SILVER LINK.   \n",
       "4  After his confrontation in the Nether with his...   David Production   \n",
       "\n",
       "           Year  Rating  \n",
       "0   Jul 8, 2020    8.37  \n",
       "1  Jul 11, 2020     NaN  \n",
       "2   Jul 6, 2020     NaN  \n",
       "3   Jul 4, 2020     NaN  \n",
       "4   Jul 4, 2020     NaN  "
      ]
     },
     "execution_count": 93,
     "metadata": {},
     "output_type": "execute_result"
    }
   ],
   "source": [
    "anime_df.head(5)"
   ]
  },
  {
   "cell_type": "code",
   "execution_count": 94,
   "id": "bf67a59a",
   "metadata": {},
   "outputs": [],
   "source": [
    "anime_df.to_csv('AnimeWorld.csv')"
   ]
  },
  {
   "cell_type": "code",
   "execution_count": 95,
   "id": "43a339fc",
   "metadata": {},
   "outputs": [],
   "source": [
    "check_csv = pd.read_csv(\"AnimeWorld.csv\")"
   ]
  },
  {
   "cell_type": "code",
   "execution_count": 96,
   "id": "2d98b2a0",
   "metadata": {},
   "outputs": [
    {
     "name": "stdout",
     "output_type": "stream",
     "text": [
      "<class 'pandas.core.frame.DataFrame'>\n",
      "RangeIndex: 1005 entries, 0 to 1004\n",
      "Data columns (total 7 columns):\n",
      " #   Column       Non-Null Count  Dtype  \n",
      "---  ------       --------------  -----  \n",
      " 0   Unnamed: 0   1005 non-null   int64  \n",
      " 1   Anime        1005 non-null   object \n",
      " 2   Genre        1005 non-null   object \n",
      " 3   Description  1005 non-null   object \n",
      " 4   Studio       977 non-null    object \n",
      " 5   Year         1005 non-null   object \n",
      " 6   Rating       97 non-null     float64\n",
      "dtypes: float64(1), int64(1), object(5)\n",
      "memory usage: 55.1+ KB\n"
     ]
    }
   ],
   "source": [
    "check_csv.info()"
   ]
  }
 ],
 "metadata": {
  "kernelspec": {
   "display_name": "Python 3 (ipykernel)",
   "language": "python",
   "name": "python3"
  },
  "language_info": {
   "codemirror_mode": {
    "name": "ipython",
    "version": 3
   },
   "file_extension": ".py",
   "mimetype": "text/x-python",
   "name": "python",
   "nbconvert_exporter": "python",
   "pygments_lexer": "ipython3",
   "version": "3.10.4"
  }
 },
 "nbformat": 4,
 "nbformat_minor": 5
}
