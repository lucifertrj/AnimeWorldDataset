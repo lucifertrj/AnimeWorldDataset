{
 "cells": [
  {
   "cell_type": "markdown",
   "id": "88790492",
   "metadata": {},
   "source": [
    "## AnimeWorld - Part 1 EDA\n",
    "\n",
    "A blog will be shared soon on Recommendation System in detail. Join our Discord Community to stay updated.\n",
    "\n",
    "\n",
    "<a href=\"https://discord.com/invite/kxZYxdTKp6\">\n",
    "<img src=\"https://discord.com/api/guilds/939520548726272010/widget.png?style=banner1\"></a>\n",
    "    "
   ]
  },
  {
   "cell_type": "markdown",
   "id": "3d5475fb",
   "metadata": {},
   "source": [
    "This notebook is divided into two parts:\n",
    "- Part 1- EDA\n",
    "- Part 2- Recommendation Engine System"
   ]
  },
  {
   "cell_type": "markdown",
   "id": "004b6fef",
   "metadata": {},
   "source": [
    "Note: This dataset currently only contains 2015-2020 active Anime. I shall soon add more data starting from 2000. So stay updated by joining our Discord Server"
   ]
  },
  {
   "cell_type": "code",
   "execution_count": 1,
   "id": "b4bc130b",
   "metadata": {},
   "outputs": [],
   "source": [
    "import pandas as pd\n",
    "import matplotlib.pyplot as plt\n",
    "import seaborn as sns\n",
    "import nltk\n",
    "from sklearn.feature_extraction.text import CountVectorizer\n",
    "from sklearn.feature_extraction.text import TfidfVectorizer\n",
    "from sklearn.metrics.pairwise import cosine_similarity\n",
    "\n",
    "import warnings\n",
    "warnings.filterwarnings(\"ignore\")"
   ]
  },
  {
   "cell_type": "code",
   "execution_count": 2,
   "id": "0118fc8a",
   "metadata": {},
   "outputs": [],
   "source": [
    "data = pd.read_csv(\"AnimeWorld.csv\")"
   ]
  },
  {
   "cell_type": "code",
   "execution_count": 3,
   "id": "d93685ca",
   "metadata": {},
   "outputs": [
    {
     "data": {
      "text/html": [
       "<div>\n",
       "<style scoped>\n",
       "    .dataframe tbody tr th:only-of-type {\n",
       "        vertical-align: middle;\n",
       "    }\n",
       "\n",
       "    .dataframe tbody tr th {\n",
       "        vertical-align: top;\n",
       "    }\n",
       "\n",
       "    .dataframe thead th {\n",
       "        text-align: right;\n",
       "    }\n",
       "</style>\n",
       "<table border=\"1\" class=\"dataframe\">\n",
       "  <thead>\n",
       "    <tr style=\"text-align: right;\">\n",
       "      <th></th>\n",
       "      <th>Unnamed: 0</th>\n",
       "      <th>Anime</th>\n",
       "      <th>Genre</th>\n",
       "      <th>Description</th>\n",
       "      <th>Studio</th>\n",
       "      <th>Year</th>\n",
       "      <th>Rating</th>\n",
       "    </tr>\n",
       "  </thead>\n",
       "  <tbody>\n",
       "    <tr>\n",
       "      <th>606</th>\n",
       "      <td>45</td>\n",
       "      <td>Kaito x Ansa</td>\n",
       "      <td>[]</td>\n",
       "      <td>Second season of Nazotokine.</td>\n",
       "      <td>Tengu Kobo</td>\n",
       "      <td>Jul 12, 2017</td>\n",
       "      <td>NaN</td>\n",
       "    </tr>\n",
       "    <tr>\n",
       "      <th>6</th>\n",
       "      <td>6</td>\n",
       "      <td>Great Pretender</td>\n",
       "      <td>['Action', 'Adventure', 'Mystery']</td>\n",
       "      <td>A series of unfortunate events has led Makoto ...</td>\n",
       "      <td>Wit Studio</td>\n",
       "      <td>Jul 9, 2020</td>\n",
       "      <td>8.26</td>\n",
       "    </tr>\n",
       "    <tr>\n",
       "      <th>504</th>\n",
       "      <td>17</td>\n",
       "      <td>Urara Meirochou</td>\n",
       "      <td>['Comedy', 'Fantasy', 'Slice of Life']</td>\n",
       "      <td>Labyrinth Town is a legendary city composed of...</td>\n",
       "      <td>J.C.Staff</td>\n",
       "      <td>Jan 6, 2017</td>\n",
       "      <td>NaN</td>\n",
       "    </tr>\n",
       "    <tr>\n",
       "      <th>65</th>\n",
       "      <td>65</td>\n",
       "      <td>Ma-eum-uisoli Season 2</td>\n",
       "      <td>['Comedy', 'Slice of Life']</td>\n",
       "      <td>Second season of Ma-eum-uisoli.</td>\n",
       "      <td>NaN</td>\n",
       "      <td>May 19, 2020</td>\n",
       "      <td>NaN</td>\n",
       "    </tr>\n",
       "    <tr>\n",
       "      <th>203</th>\n",
       "      <td>59</td>\n",
       "      <td>Yu☆Gi☆Oh! VRAINS</td>\n",
       "      <td>['Action', 'Fantasy', 'Sci-Fi']</td>\n",
       "      <td>The world of Duel Monsters is once again evolv...</td>\n",
       "      <td>Gallop</td>\n",
       "      <td>May 10, 2017</td>\n",
       "      <td>NaN</td>\n",
       "    </tr>\n",
       "    <tr>\n",
       "      <th>956</th>\n",
       "      <td>50</td>\n",
       "      <td>Deban Desu Yo! Onigirizu</td>\n",
       "      <td>Comedy</td>\n",
       "      <td>A short series created to commemorate the 25th...</td>\n",
       "      <td>Production Reed</td>\n",
       "      <td>Jun 1, 2015</td>\n",
       "      <td>NaN</td>\n",
       "    </tr>\n",
       "    <tr>\n",
       "      <th>919</th>\n",
       "      <td>12</td>\n",
       "      <td>Gakkougurashi!</td>\n",
       "      <td>['Horror', 'Mystery', 'Slice of Life']</td>\n",
       "      <td>Carefree high school junior Yuki Takeya every ...</td>\n",
       "      <td>Lerche</td>\n",
       "      <td>Jul 9, 2015</td>\n",
       "      <td>NaN</td>\n",
       "    </tr>\n",
       "    <tr>\n",
       "      <th>519</th>\n",
       "      <td>32</td>\n",
       "      <td>Schoolgirl Strikers: Animation Channel</td>\n",
       "      <td>['Action', 'Sci-Fi']</td>\n",
       "      <td>It's the near future. The newly established gi...</td>\n",
       "      <td>J.C.Staff</td>\n",
       "      <td>Jan 7, 2017</td>\n",
       "      <td>NaN</td>\n",
       "    </tr>\n",
       "    <tr>\n",
       "      <th>662</th>\n",
       "      <td>62</td>\n",
       "      <td>Otona no Ikkyuu-san 2nd Season</td>\n",
       "      <td>Comedy</td>\n",
       "      <td>The second season of Otona no Ikkyuu-san.</td>\n",
       "      <td>Historical</td>\n",
       "      <td>Apr 4, 2017</td>\n",
       "      <td>NaN</td>\n",
       "    </tr>\n",
       "    <tr>\n",
       "      <th>275</th>\n",
       "      <td>7</td>\n",
       "      <td>Isekai Quartet</td>\n",
       "      <td>['Comedy', 'Fantasy']</td>\n",
       "      <td>It is a normal day; everyone from deranged mil...</td>\n",
       "      <td>Studio PuYUKAI</td>\n",
       "      <td>Apr 10, 2019</td>\n",
       "      <td>NaN</td>\n",
       "    </tr>\n",
       "  </tbody>\n",
       "</table>\n",
       "</div>"
      ],
      "text/plain": [
       "     Unnamed: 0                                   Anime  \\\n",
       "606          45                            Kaito x Ansa   \n",
       "6             6                         Great Pretender   \n",
       "504          17                         Urara Meirochou   \n",
       "65           65                  Ma-eum-uisoli Season 2   \n",
       "203          59                        Yu☆Gi☆Oh! VRAINS   \n",
       "956          50                Deban Desu Yo! Onigirizu   \n",
       "919          12                          Gakkougurashi!   \n",
       "519          32  Schoolgirl Strikers: Animation Channel   \n",
       "662          62          Otona no Ikkyuu-san 2nd Season   \n",
       "275           7                          Isekai Quartet   \n",
       "\n",
       "                                      Genre  \\\n",
       "606                                      []   \n",
       "6        ['Action', 'Adventure', 'Mystery']   \n",
       "504  ['Comedy', 'Fantasy', 'Slice of Life']   \n",
       "65              ['Comedy', 'Slice of Life']   \n",
       "203         ['Action', 'Fantasy', 'Sci-Fi']   \n",
       "956                                  Comedy   \n",
       "919  ['Horror', 'Mystery', 'Slice of Life']   \n",
       "519                    ['Action', 'Sci-Fi']   \n",
       "662                                  Comedy   \n",
       "275                   ['Comedy', 'Fantasy']   \n",
       "\n",
       "                                           Description           Studio  \\\n",
       "606                       Second season of Nazotokine.       Tengu Kobo   \n",
       "6    A series of unfortunate events has led Makoto ...       Wit Studio   \n",
       "504  Labyrinth Town is a legendary city composed of...        J.C.Staff   \n",
       "65                     Second season of Ma-eum-uisoli.              NaN   \n",
       "203  The world of Duel Monsters is once again evolv...           Gallop   \n",
       "956  A short series created to commemorate the 25th...  Production Reed   \n",
       "919  Carefree high school junior Yuki Takeya every ...           Lerche   \n",
       "519  It's the near future. The newly established gi...        J.C.Staff   \n",
       "662          The second season of Otona no Ikkyuu-san.       Historical   \n",
       "275  It is a normal day; everyone from deranged mil...   Studio PuYUKAI   \n",
       "\n",
       "             Year  Rating  \n",
       "606  Jul 12, 2017     NaN  \n",
       "6     Jul 9, 2020    8.26  \n",
       "504   Jan 6, 2017     NaN  \n",
       "65   May 19, 2020     NaN  \n",
       "203  May 10, 2017     NaN  \n",
       "956   Jun 1, 2015     NaN  \n",
       "919   Jul 9, 2015     NaN  \n",
       "519   Jan 7, 2017     NaN  \n",
       "662   Apr 4, 2017     NaN  \n",
       "275  Apr 10, 2019     NaN  "
      ]
     },
     "execution_count": 3,
     "metadata": {},
     "output_type": "execute_result"
    }
   ],
   "source": [
    "data.sample(10)   #display random 10 data"
   ]
  },
  {
   "cell_type": "code",
   "execution_count": 4,
   "id": "b9069942",
   "metadata": {},
   "outputs": [
    {
     "name": "stdout",
     "output_type": "stream",
     "text": [
      "<class 'pandas.core.frame.DataFrame'>\n",
      "RangeIndex: 1005 entries, 0 to 1004\n",
      "Data columns (total 7 columns):\n",
      " #   Column       Non-Null Count  Dtype  \n",
      "---  ------       --------------  -----  \n",
      " 0   Unnamed: 0   1005 non-null   int64  \n",
      " 1   Anime        1005 non-null   object \n",
      " 2   Genre        1005 non-null   object \n",
      " 3   Description  1005 non-null   object \n",
      " 4   Studio       977 non-null    object \n",
      " 5   Year         1005 non-null   object \n",
      " 6   Rating       97 non-null     float64\n",
      "dtypes: float64(1), int64(1), object(5)\n",
      "memory usage: 55.1+ KB\n"
     ]
    }
   ],
   "source": [
    "data.info()"
   ]
  },
  {
   "cell_type": "markdown",
   "id": "bdf52c4f",
   "metadata": {},
   "source": [
    "### Step 1: Perform EDA: Exploratory Data Analysis"
   ]
  },
  {
   "cell_type": "code",
   "execution_count": 5,
   "id": "22cd1e74",
   "metadata": {},
   "outputs": [
    {
     "data": {
      "text/plain": [
       "<AxesSubplot:>"
      ]
     },
     "execution_count": 5,
     "metadata": {},
     "output_type": "execute_result"
    },
    {
     "data": {
      "image/png": "[encoded data removed]",
      "text/plain": [
       "<Figure size 432x288 with 2 Axes>"
      ]
     },
     "metadata": {
      "needs_background": "light"
     },
     "output_type": "display_data"
    }
   ],
   "source": [
    "sns.heatmap(data.isnull())"
   ]
  },
  {
   "cell_type": "code",
   "execution_count": 6,
   "id": "a936fbed",
   "metadata": {},
   "outputs": [],
   "source": [
    "#Let us drop Unnamed: 0 column\n",
    "data.drop(\"Unnamed: 0\",axis=1,inplace=True)"
   ]
  },
  {
   "cell_type": "code",
   "execution_count": 7,
   "id": "43790630",
   "metadata": {},
   "outputs": [
    {
     "name": "stdout",
     "output_type": "stream",
     "text": [
      "<class 'pandas.core.frame.DataFrame'>\n",
      "RangeIndex: 1005 entries, 0 to 1004\n",
      "Data columns (total 6 columns):\n",
      " #   Column       Non-Null Count  Dtype  \n",
      "---  ------       --------------  -----  \n",
      " 0   Anime        1005 non-null   object \n",
      " 1   Genre        1005 non-null   object \n",
      " 2   Description  1005 non-null   object \n",
      " 3   Studio       977 non-null    object \n",
      " 4   Year         1005 non-null   object \n",
      " 5   Rating       97 non-null     float64\n",
      "dtypes: float64(1), object(5)\n",
      "memory usage: 47.2+ KB\n"
     ]
    }
   ],
   "source": [
    "data.info()"
   ]
  },
  {
   "cell_type": "code",
   "execution_count": 8,
   "id": "ed4e237f",
   "metadata": {},
   "outputs": [
    {
     "data": {
      "text/plain": [
       "209"
      ]
     },
     "execution_count": 8,
     "metadata": {},
     "output_type": "execute_result"
    }
   ],
   "source": [
    "data['Studio'].nunique()"
   ]
  },
  {
   "cell_type": "code",
   "execution_count": 9,
   "id": "47173c49",
   "metadata": {},
   "outputs": [],
   "source": [
    "ratings = data['Rating']"
   ]
  },
  {
   "cell_type": "code",
   "execution_count": 10,
   "id": "80456a70",
   "metadata": {},
   "outputs": [],
   "source": [
    "ratings.dropna(inplace=True)"
   ]
  },
  {
   "cell_type": "code",
   "execution_count": 11,
   "id": "8c7e8e81",
   "metadata": {},
   "outputs": [
    {
     "data": {
      "text/plain": [
       "Rating\n",
       "8.81                                   Mob Psycho 100 II\n",
       "8.88    Gintama.: Shirogane no Tamashii-hen - Kouhan-sen\n",
       "8.90                          Owarimonogatari 2nd Season\n",
       "8.95                          3-gatsu no Lion 2nd Season\n",
       "8.99                                            Gintama.\n",
       "Name: Anime, dtype: object"
      ]
     },
     "execution_count": 11,
     "metadata": {},
     "output_type": "execute_result"
    }
   ],
   "source": [
    "data.groupby(\"Rating\")[\"Anime\"].max().iloc[-5:]"
   ]
  },
  {
   "cell_type": "code",
   "execution_count": 12,
   "id": "6a002aef",
   "metadata": {},
   "outputs": [
    {
     "data": {
      "text/plain": [
       "<AxesSubplot:xlabel='Rating', ylabel='Count'>"
      ]
     },
     "execution_count": 12,
     "metadata": {},
     "output_type": "execute_result"
    },
    {
     "data": {
      "image/png": "[encoded data removed]",
      "text/plain": [
       "<Figure size 432x288 with 1 Axes>"
      ]
     },
     "metadata": {
      "needs_background": "light"
     },
     "output_type": "display_data"
    }
   ],
   "source": [
    "sns.histplot(data=ratings)"
   ]
  },
  {
   "cell_type": "code",
   "execution_count": 13,
   "id": "0f309bb9",
   "metadata": {},
   "outputs": [
    {
     "name": "stdout",
     "output_type": "stream",
     "text": [
      "<class 'pandas.core.frame.DataFrame'>\n",
      "RangeIndex: 1005 entries, 0 to 1004\n",
      "Data columns (total 6 columns):\n",
      " #   Column       Non-Null Count  Dtype  \n",
      "---  ------       --------------  -----  \n",
      " 0   Anime        1005 non-null   object \n",
      " 1   Genre        1005 non-null   object \n",
      " 2   Description  1005 non-null   object \n",
      " 3   Studio       977 non-null    object \n",
      " 4   Year         1005 non-null   object \n",
      " 5   Rating       97 non-null     float64\n",
      "dtypes: float64(1), object(5)\n",
      "memory usage: 47.2+ KB\n"
     ]
    }
   ],
   "source": [
    "data.info()"
   ]
  },
  {
   "cell_type": "markdown",
   "id": "1e6c7a99",
   "metadata": {},
   "source": [
    "### Parse the Date from Object to Datetime"
   ]
  },
  {
   "cell_type": "code",
   "execution_count": 14,
   "id": "b878d902",
   "metadata": {},
   "outputs": [],
   "source": [
    "data['Year'] = pd.to_datetime(data['Year'])"
   ]
  },
  {
   "cell_type": "code",
   "execution_count": 15,
   "id": "afec678f",
   "metadata": {},
   "outputs": [
    {
     "name": "stdout",
     "output_type": "stream",
     "text": [
      "<class 'pandas.core.frame.DataFrame'>\n",
      "RangeIndex: 1005 entries, 0 to 1004\n",
      "Data columns (total 6 columns):\n",
      " #   Column       Non-Null Count  Dtype         \n",
      "---  ------       --------------  -----         \n",
      " 0   Anime        1005 non-null   object        \n",
      " 1   Genre        1005 non-null   object        \n",
      " 2   Description  1005 non-null   object        \n",
      " 3   Studio       977 non-null    object        \n",
      " 4   Year         1005 non-null   datetime64[ns]\n",
      " 5   Rating       97 non-null     float64       \n",
      "dtypes: datetime64[ns](1), float64(1), object(4)\n",
      "memory usage: 47.2+ KB\n"
     ]
    }
   ],
   "source": [
    "data.info()"
   ]
  },
  {
   "cell_type": "code",
   "execution_count": 16,
   "id": "1be8af33",
   "metadata": {},
   "outputs": [],
   "source": [
    "data['Release year'] = data['Year'].dt.year\n",
    "data['Release Month'] = data['Year'].dt.month"
   ]
  },
  {
   "cell_type": "code",
   "execution_count": 17,
   "id": "135778e2",
   "metadata": {},
   "outputs": [
    {
     "data": {
      "text/html": [
       "<div>\n",
       "<style scoped>\n",
       "    .dataframe tbody tr th:only-of-type {\n",
       "        vertical-align: middle;\n",
       "    }\n",
       "\n",
       "    .dataframe tbody tr th {\n",
       "        vertical-align: top;\n",
       "    }\n",
       "\n",
       "    .dataframe thead th {\n",
       "        text-align: right;\n",
       "    }\n",
       "</style>\n",
       "<table border=\"1\" class=\"dataframe\">\n",
       "  <thead>\n",
       "    <tr style=\"text-align: right;\">\n",
       "      <th></th>\n",
       "      <th>Anime</th>\n",
       "      <th>Genre</th>\n",
       "      <th>Description</th>\n",
       "      <th>Studio</th>\n",
       "      <th>Year</th>\n",
       "      <th>Rating</th>\n",
       "      <th>Release year</th>\n",
       "      <th>Release Month</th>\n",
       "    </tr>\n",
       "  </thead>\n",
       "  <tbody>\n",
       "    <tr>\n",
       "      <th>886</th>\n",
       "      <td>Garo: Honoo no Kokuin</td>\n",
       "      <td>['Action', 'Fantasy', 'Supernatural']</td>\n",
       "      <td>In the name of the king, the Valiante Kingdom ...</td>\n",
       "      <td>MAPPA</td>\n",
       "      <td>2014-10-04</td>\n",
       "      <td>NaN</td>\n",
       "      <td>2014</td>\n",
       "      <td>10</td>\n",
       "    </tr>\n",
       "    <tr>\n",
       "      <th>385</th>\n",
       "      <td>High Score Girl</td>\n",
       "      <td>Comedy</td>\n",
       "      <td>The year is 1991, and arcade video games are t...</td>\n",
       "      <td>J.C.Staff</td>\n",
       "      <td>2018-07-14</td>\n",
       "      <td>NaN</td>\n",
       "      <td>2018</td>\n",
       "      <td>7</td>\n",
       "    </tr>\n",
       "    <tr>\n",
       "      <th>242</th>\n",
       "      <td>Cop Craft</td>\n",
       "      <td>['Action', 'Fantasy', 'Sci-Fi']</td>\n",
       "      <td>Fifteen years ago, a hyperspace gate appeared ...</td>\n",
       "      <td>Millepensee</td>\n",
       "      <td>2019-07-09</td>\n",
       "      <td>NaN</td>\n",
       "      <td>2019</td>\n",
       "      <td>7</td>\n",
       "    </tr>\n",
       "    <tr>\n",
       "      <th>848</th>\n",
       "      <td>Durarara!!x2 Shou</td>\n",
       "      <td>['Action', 'Mystery', 'Supernatural']</td>\n",
       "      <td>Although peace has finally returned to Ikebuku...</td>\n",
       "      <td>Shuka</td>\n",
       "      <td>2015-01-10</td>\n",
       "      <td>NaN</td>\n",
       "      <td>2015</td>\n",
       "      <td>1</td>\n",
       "    </tr>\n",
       "    <tr>\n",
       "      <th>528</th>\n",
       "      <td>Chou Shounen Tanteidan Neo</td>\n",
       "      <td>Mystery</td>\n",
       "      <td>The series will follow the descendant of Kobay...</td>\n",
       "      <td>DLE</td>\n",
       "      <td>2017-01-02</td>\n",
       "      <td>NaN</td>\n",
       "      <td>2017</td>\n",
       "      <td>1</td>\n",
       "    </tr>\n",
       "  </tbody>\n",
       "</table>\n",
       "</div>"
      ],
      "text/plain": [
       "                          Anime                                  Genre  \\\n",
       "886       Garo: Honoo no Kokuin  ['Action', 'Fantasy', 'Supernatural']   \n",
       "385             High Score Girl                                 Comedy   \n",
       "242                   Cop Craft        ['Action', 'Fantasy', 'Sci-Fi']   \n",
       "848           Durarara!!x2 Shou  ['Action', 'Mystery', 'Supernatural']   \n",
       "528  Chou Shounen Tanteidan Neo                                Mystery   \n",
       "\n",
       "                                           Description       Studio  \\\n",
       "886  In the name of the king, the Valiante Kingdom ...        MAPPA   \n",
       "385  The year is 1991, and arcade video games are t...    J.C.Staff   \n",
       "242  Fifteen years ago, a hyperspace gate appeared ...  Millepensee   \n",
       "848  Although peace has finally returned to Ikebuku...        Shuka   \n",
       "528  The series will follow the descendant of Kobay...          DLE   \n",
       "\n",
       "          Year  Rating  Release year  Release Month  \n",
       "886 2014-10-04     NaN          2014             10  \n",
       "385 2018-07-14     NaN          2018              7  \n",
       "242 2019-07-09     NaN          2019              7  \n",
       "848 2015-01-10     NaN          2015              1  \n",
       "528 2017-01-02     NaN          2017              1  "
      ]
     },
     "execution_count": 17,
     "metadata": {},
     "output_type": "execute_result"
    }
   ],
   "source": [
    "data.sample(5)"
   ]
  },
  {
   "cell_type": "code",
   "execution_count": 18,
   "id": "581fe6d2",
   "metadata": {},
   "outputs": [
    {
     "data": {
      "text/plain": [
       "Text(0.5, 0, 'Release Month')"
      ]
     },
     "execution_count": 18,
     "metadata": {},
     "output_type": "execute_result"
    },
    {
     "data": {
      "image/png": "[encoded data removed]",
      "text/plain": [
       "<Figure size 1008x504 with 1 Axes>"
      ]
     },
     "metadata": {
      "needs_background": "light"
     },
     "output_type": "display_data"
    }
   ],
   "source": [
    "plt.figure(figsize=(14,7))\n",
    "sns.countplot(data=data,x=\"Release Month\")\n",
    "plt.xticks(ticks = range(12),labels=['Jan','Feb','Mar','Apr','May','Jun','Jul','Aug','Sep','Oct','Nov','Dec'])\n",
    "plt.xlabel(\"Release Month\")"
   ]
  },
  {
   "cell_type": "markdown",
   "id": "3f84dc24",
   "metadata": {},
   "source": [
    "##### By above graph we can conclude that April Month release more number of Anime"
   ]
  },
  {
   "cell_type": "code",
   "execution_count": 19,
   "id": "71b1aa36",
   "metadata": {},
   "outputs": [
    {
     "data": {
      "text/plain": [
       "<AxesSubplot:xlabel='Release year', ylabel='count'>"
      ]
     },
     "execution_count": 19,
     "metadata": {},
     "output_type": "execute_result"
    },
    {
     "data": {
      "image/png": "[encoded data removed]",
      "text/plain": [
       "<Figure size 1008x504 with 1 Axes>"
      ]
     },
     "metadata": {
      "needs_background": "light"
     },
     "output_type": "display_data"
    }
   ],
   "source": [
    "plt.figure(figsize=(14,7))\n",
    "sns.countplot(data=data,x=\"Release year\")"
   ]
  },
  {
   "cell_type": "markdown",
   "id": "2740f6b0",
   "metadata": {},
   "source": [
    "Now you might be wondering when the dataset was supposed to be last 5 years then why is 1969 showing or why is 1969-2014 available in the dataset.This is because few old Anime were active in last 5 years and is still successfully running e.g., One Piece\n",
    "\n",
    "2018 was a Good Year for new Animes"
   ]
  },
  {
   "cell_type": "markdown",
   "id": "6774bf97",
   "metadata": {},
   "source": [
    "### Studio with More number of Anime"
   ]
  },
  {
   "cell_type": "code",
   "execution_count": 35,
   "id": "c42c2ab2",
   "metadata": {},
   "outputs": [
    {
     "data": {
      "text/plain": [
       "Studio\n",
       "A-1 Pictures         38\n",
       "J.C.Staff            35\n",
       "Studio Deen          31\n",
       "OLM                  29\n",
       "TMS Entertainment    27\n",
       "Name: Anime, dtype: int64"
      ]
     },
     "execution_count": 35,
     "metadata": {},
     "output_type": "execute_result"
    }
   ],
   "source": [
    "data.groupby(\"Studio\")['Anime'].count().sort_values(ascending=False).iloc[:5]"
   ]
  },
  {
   "cell_type": "code",
   "execution_count": 46,
   "id": "b8374a37",
   "metadata": {},
   "outputs": [
    {
     "data": {
      "text/plain": [
       "<AxesSubplot:ylabel='Studio'>"
      ]
     },
     "execution_count": 46,
     "metadata": {},
     "output_type": "execute_result"
    },
    {
     "data": {
      "image/png": "[encoded data removed]",
      "text/plain": [
       "<Figure size 432x288 with 1 Axes>"
      ]
     },
     "metadata": {
      "needs_background": "light"
     },
     "output_type": "display_data"
    }
   ],
   "source": [
    "color = ['red','blue','green','purple','orange','black','brown','yellow','grey']\n",
    "data.groupby(\"Studio\")['Anime'].count().sort_values(ascending=False).iloc[:10].plot(kind=\"barh\",color=color)"
   ]
  },
  {
   "cell_type": "markdown",
   "id": "10ea96f3",
   "metadata": {},
   "source": [
    "### Lets Look At Genre"
   ]
  },
  {
   "cell_type": "code",
   "execution_count": 87,
   "id": "6011c517",
   "metadata": {},
   "outputs": [],
   "source": [
    "genre = data['Genre']"
   ]
  },
  {
   "cell_type": "code",
   "execution_count": 93,
   "id": "d0d8bc6e",
   "metadata": {},
   "outputs": [
    {
     "data": {
      "text/plain": [
       "{'Action',\n",
       " 'Adventure',\n",
       " 'Comedy',\n",
       " 'Drama',\n",
       " 'Fantasy',\n",
       " 'Horror',\n",
       " 'Mystery',\n",
       " 'Romance',\n",
       " 'Sci-Fi',\n",
       " 'Slice of Life',\n",
       " 'Sports',\n",
       " 'Supernatural',\n",
       " \"['Action', 'Adventure', 'Comedy', 'Drama', 'Supernatural']\",\n",
       " \"['Action', 'Adventure', 'Comedy', 'Drama']\",\n",
       " \"['Action', 'Adventure', 'Comedy', 'Fantasy', 'Romance']\",\n",
       " \"['Action', 'Adventure', 'Comedy', 'Fantasy', 'Sci-Fi']\",\n",
       " \"['Action', 'Adventure', 'Comedy', 'Fantasy']\",\n",
       " \"['Action', 'Adventure', 'Comedy', 'Mystery']\",\n",
       " \"['Action', 'Adventure', 'Comedy', 'Sci-Fi']\",\n",
       " \"['Action', 'Adventure', 'Comedy', 'Supernatural']\",\n",
       " \"['Action', 'Adventure', 'Comedy']\",\n",
       " \"['Action', 'Adventure', 'Drama', 'Fantasy', 'Horror', 'Supernatural']\",\n",
       " \"['Action', 'Adventure', 'Drama', 'Fantasy', 'Mystery']\",\n",
       " \"['Action', 'Adventure', 'Drama', 'Fantasy', 'Supernatural']\",\n",
       " \"['Action', 'Adventure', 'Drama', 'Fantasy']\",\n",
       " \"['Action', 'Adventure', 'Drama', 'Mystery']\",\n",
       " \"['Action', 'Adventure', 'Drama', 'Supernatural']\",\n",
       " \"['Action', 'Adventure', 'Drama']\",\n",
       " \"['Action', 'Adventure', 'Ecchi']\",\n",
       " \"['Action', 'Adventure', 'Fantasy', 'Mystery']\",\n",
       " \"['Action', 'Adventure', 'Fantasy', 'Supernatural']\",\n",
       " \"['Action', 'Adventure', 'Fantasy']\",\n",
       " \"['Action', 'Adventure', 'Mystery']\",\n",
       " \"['Action', 'Adventure', 'Sci-Fi']\",\n",
       " \"['Action', 'Adventure', 'Slice of Life']\",\n",
       " \"['Action', 'Adventure', 'Supernatural']\",\n",
       " \"['Action', 'Adventure']\",\n",
       " \"['Action', 'Boys Love', 'Comedy', 'Supernatural']\",\n",
       " \"['Action', 'Comedy', 'Drama', 'Fantasy', 'Romance', 'Sci-Fi']\",\n",
       " \"['Action', 'Comedy', 'Drama', 'Fantasy', 'Slice of Life']\",\n",
       " \"['Action', 'Comedy', 'Drama', 'Mystery', 'Supernatural']\",\n",
       " \"['Action', 'Comedy', 'Drama', 'Supernatural']\",\n",
       " \"['Action', 'Comedy', 'Fantasy', 'Horror']\",\n",
       " \"['Action', 'Comedy', 'Fantasy', 'Romance', 'Sci-Fi', 'Ecchi']\",\n",
       " \"['Action', 'Comedy', 'Fantasy', 'Romance', 'Supernatural']\",\n",
       " \"['Action', 'Comedy', 'Fantasy', 'Romance']\",\n",
       " \"['Action', 'Comedy', 'Fantasy', 'Sci-Fi']\",\n",
       " \"['Action', 'Comedy', 'Fantasy', 'Slice of Life']\",\n",
       " \"['Action', 'Comedy', 'Fantasy', 'Supernatural']\",\n",
       " \"['Action', 'Comedy', 'Fantasy']\",\n",
       " \"['Action', 'Comedy', 'Girls Love']\",\n",
       " \"['Action', 'Comedy', 'Gourmet']\",\n",
       " \"['Action', 'Comedy', 'Mystery', 'Supernatural']\",\n",
       " \"['Action', 'Comedy', 'Romance', 'Ecchi']\",\n",
       " \"['Action', 'Comedy', 'Romance', 'Sci-Fi']\",\n",
       " \"['Action', 'Comedy', 'Romance', 'Supernatural', 'Ecchi']\",\n",
       " \"['Action', 'Comedy', 'Romance', 'Supernatural']\",\n",
       " \"['Action', 'Comedy', 'Sci-Fi', 'Ecchi']\",\n",
       " \"['Action', 'Comedy', 'Sci-Fi']\",\n",
       " \"['Action', 'Comedy', 'Sports']\",\n",
       " \"['Action', 'Comedy', 'Supernatural', 'Ecchi']\",\n",
       " \"['Action', 'Comedy', 'Supernatural']\",\n",
       " \"['Action', 'Comedy']\",\n",
       " \"['Action', 'Drama', 'Fantasy', 'Horror', 'Supernatural']\",\n",
       " \"['Action', 'Drama', 'Fantasy', 'Mystery', 'Sci-Fi', 'Supernatural']\",\n",
       " \"['Action', 'Drama', 'Fantasy', 'Romance']\",\n",
       " \"['Action', 'Drama', 'Fantasy', 'Sci-Fi']\",\n",
       " \"['Action', 'Drama', 'Fantasy', 'Supernatural']\",\n",
       " \"['Action', 'Drama', 'Fantasy']\",\n",
       " \"['Action', 'Drama', 'Horror', 'Sci-Fi']\",\n",
       " \"['Action', 'Drama', 'Romance', 'Sci-Fi']\",\n",
       " \"['Action', 'Drama', 'Romance', 'Supernatural']\",\n",
       " \"['Action', 'Drama', 'Sci-Fi']\",\n",
       " \"['Action', 'Drama', 'Sports']\",\n",
       " \"['Action', 'Drama', 'Supernatural']\",\n",
       " \"['Action', 'Drama']\",\n",
       " \"['Action', 'Fantasy', 'Ecchi']\",\n",
       " \"['Action', 'Fantasy', 'Gourmet', 'Slice of Life']\",\n",
       " \"['Action', 'Fantasy', 'Horror']\",\n",
       " \"['Action', 'Fantasy', 'Romance', 'Ecchi']\",\n",
       " \"['Action', 'Fantasy', 'Romance', 'Supernatural', 'Ecchi']\",\n",
       " \"['Action', 'Fantasy', 'Romance', 'Supernatural']\",\n",
       " \"['Action', 'Fantasy', 'Sci-Fi', 'Supernatural']\",\n",
       " \"['Action', 'Fantasy', 'Sci-Fi']\",\n",
       " \"['Action', 'Fantasy', 'Slice of Life']\",\n",
       " \"['Action', 'Fantasy', 'Supernatural']\",\n",
       " \"['Action', 'Fantasy']\",\n",
       " \"['Action', 'Horror', 'Mystery', 'Supernatural']\",\n",
       " \"['Action', 'Horror', 'Mystery']\",\n",
       " \"['Action', 'Horror', 'Sci-Fi']\",\n",
       " \"['Action', 'Mystery', 'Sci-Fi']\",\n",
       " \"['Action', 'Mystery', 'Supernatural', 'Ecchi']\",\n",
       " \"['Action', 'Mystery', 'Supernatural']\",\n",
       " \"['Action', 'Mystery']\",\n",
       " \"['Action', 'Romance', 'Sci-Fi', 'Ecchi']\",\n",
       " \"['Action', 'Romance', 'Sci-Fi']\",\n",
       " \"['Action', 'Romance', 'Supernatural', 'Ecchi']\",\n",
       " \"['Action', 'Sci-Fi', 'Ecchi']\",\n",
       " \"['Action', 'Sci-Fi', 'Slice of Life']\",\n",
       " \"['Action', 'Sci-Fi', 'Sports']\",\n",
       " \"['Action', 'Sci-Fi', 'Supernatural']\",\n",
       " \"['Action', 'Sci-Fi']\",\n",
       " \"['Action', 'Sports']\",\n",
       " \"['Action', 'Supernatural']\",\n",
       " \"['Adventure', 'Comedy', 'Drama', 'Romance', 'Slice of Life']\",\n",
       " \"['Adventure', 'Comedy', 'Drama']\",\n",
       " \"['Adventure', 'Comedy', 'Fantasy', 'Romance']\",\n",
       " \"['Adventure', 'Comedy', 'Fantasy']\",\n",
       " \"['Adventure', 'Comedy', 'Mystery']\",\n",
       " \"['Adventure', 'Comedy', 'Romance']\",\n",
       " \"['Adventure', 'Comedy', 'Sci-Fi']\",\n",
       " \"['Adventure', 'Comedy', 'Slice of Life']\",\n",
       " \"['Adventure', 'Comedy']\",\n",
       " \"['Adventure', 'Drama', 'Fantasy', 'Mystery', 'Sci-Fi']\",\n",
       " \"['Adventure', 'Drama', 'Fantasy', 'Slice of Life']\",\n",
       " \"['Adventure', 'Drama', 'Fantasy']\",\n",
       " \"['Adventure', 'Fantasy', 'Romance', 'Sci-Fi']\",\n",
       " \"['Adventure', 'Fantasy', 'Supernatural']\",\n",
       " \"['Adventure', 'Fantasy']\",\n",
       " \"['Adventure', 'Horror', 'Suspense']\",\n",
       " \"['Adventure', 'Mystery', 'Sci-Fi']\",\n",
       " \"['Adventure', 'Mystery']\",\n",
       " \"['Adventure', 'Romance', 'Sci-Fi']\",\n",
       " \"['Adventure', 'Sci-Fi']\",\n",
       " \"['Adventure', 'Slice of Life']\",\n",
       " \"['Avant Garde', 'Drama', 'Horror', 'Mystery', 'Supernatural']\",\n",
       " \"['Avant Garde', 'Horror', 'Supernatural']\",\n",
       " \"['Boys Love', 'Comedy', 'Drama', 'Romance', 'Slice of Life']\",\n",
       " \"['Boys Love', 'Comedy', 'Drama', 'Romance']\",\n",
       " \"['Boys Love', 'Drama', 'Romance', 'Slice of Life']\",\n",
       " \"['Boys Love', 'Fantasy']\",\n",
       " \"['Comedy', 'Drama', 'Fantasy', 'Romance']\",\n",
       " \"['Comedy', 'Drama', 'Fantasy', 'Slice of Life']\",\n",
       " \"['Comedy', 'Drama', 'Fantasy']\",\n",
       " \"['Comedy', 'Drama', 'Mystery']\",\n",
       " \"['Comedy', 'Drama', 'Romance', 'Ecchi']\",\n",
       " \"['Comedy', 'Drama', 'Romance', 'Sports']\",\n",
       " \"['Comedy', 'Drama', 'Romance']\",\n",
       " \"['Comedy', 'Drama', 'Sports']\",\n",
       " \"['Comedy', 'Drama']\",\n",
       " \"['Comedy', 'Ecchi']\",\n",
       " \"['Comedy', 'Fantasy', 'Ecchi']\",\n",
       " \"['Comedy', 'Fantasy', 'Romance', 'Ecchi']\",\n",
       " \"['Comedy', 'Fantasy', 'Romance', 'Sci-Fi', 'Supernatural', 'Ecchi']\",\n",
       " \"['Comedy', 'Fantasy', 'Romance', 'Supernatural']\",\n",
       " \"['Comedy', 'Fantasy', 'Romance']\",\n",
       " \"['Comedy', 'Fantasy', 'Slice of Life']\",\n",
       " \"['Comedy', 'Fantasy', 'Sports']\",\n",
       " \"['Comedy', 'Fantasy', 'Supernatural']\",\n",
       " \"['Comedy', 'Fantasy']\",\n",
       " \"['Comedy', 'Girls Love', 'Ecchi']\",\n",
       " \"['Comedy', 'Girls Love', 'Slice of Life']\",\n",
       " \"['Comedy', 'Gourmet', 'Slice of Life']\",\n",
       " \"['Comedy', 'Gourmet']\",\n",
       " \"['Comedy', 'Horror', 'Supernatural']\",\n",
       " \"['Comedy', 'Mystery', 'Romance', 'Supernatural']\",\n",
       " \"['Comedy', 'Mystery', 'Supernatural']\",\n",
       " \"['Comedy', 'Mystery']\",\n",
       " \"['Comedy', 'Romance', 'Ecchi']\",\n",
       " \"['Comedy', 'Romance', 'Sci-Fi', 'Ecchi']\",\n",
       " \"['Comedy', 'Romance', 'Sci-Fi']\",\n",
       " \"['Comedy', 'Romance', 'Slice of Life']\",\n",
       " \"['Comedy', 'Romance', 'Supernatural', 'Ecchi']\",\n",
       " \"['Comedy', 'Romance']\",\n",
       " \"['Comedy', 'Sci-Fi', 'Slice of Life']\",\n",
       " \"['Comedy', 'Sci-Fi', 'Supernatural', 'Ecchi']\",\n",
       " \"['Comedy', 'Sci-Fi']\",\n",
       " \"['Comedy', 'Slice of Life', 'Ecchi']\",\n",
       " \"['Comedy', 'Slice of Life', 'Sports']\",\n",
       " \"['Comedy', 'Slice of Life', 'Supernatural']\",\n",
       " \"['Comedy', 'Slice of Life']\",\n",
       " \"['Comedy', 'Sports']\",\n",
       " \"['Comedy', 'Supernatural']\",\n",
       " \"['Drama', 'Fantasy', 'Girls Love']\",\n",
       " \"['Drama', 'Fantasy', 'Mystery']\",\n",
       " \"['Drama', 'Fantasy', 'Romance', 'Sci-Fi']\",\n",
       " \"['Drama', 'Fantasy', 'Romance']\",\n",
       " \"['Drama', 'Fantasy', 'Slice of Life']\",\n",
       " \"['Drama', 'Fantasy', 'Suspense']\",\n",
       " \"['Drama', 'Fantasy']\",\n",
       " \"['Drama', 'Girls Love', 'Horror']\",\n",
       " \"['Drama', 'Girls Love', 'Romance']\",\n",
       " \"['Drama', 'Gourmet', 'Romance', 'Supernatural']\",\n",
       " \"['Drama', 'Horror', 'Mystery', 'Supernatural']\",\n",
       " \"['Drama', 'Horror', 'Mystery']\",\n",
       " \"['Drama', 'Horror', 'Supernatural']\",\n",
       " \"['Drama', 'Mystery', 'Romance', 'Slice of Life']\",\n",
       " \"['Drama', 'Mystery', 'Sci-Fi']\",\n",
       " \"['Drama', 'Mystery', 'Slice of Life']\",\n",
       " \"['Drama', 'Mystery', 'Supernatural']\",\n",
       " \"['Drama', 'Mystery']\",\n",
       " \"['Drama', 'Romance', 'Ecchi']\",\n",
       " \"['Drama', 'Romance', 'Sci-Fi']\",\n",
       " \"['Drama', 'Romance', 'Slice of Life']\",\n",
       " \"['Drama', 'Romance', 'Sports']\",\n",
       " \"['Drama', 'Romance', 'Supernatural']\",\n",
       " \"['Drama', 'Romance']\",\n",
       " \"['Drama', 'Sci-Fi', 'Suspense']\",\n",
       " \"['Drama', 'Sci-Fi']\",\n",
       " \"['Drama', 'Slice of Life', 'Sports']\",\n",
       " \"['Drama', 'Slice of Life', 'Supernatural']\",\n",
       " \"['Drama', 'Slice of Life']\",\n",
       " \"['Drama', 'Sports']\",\n",
       " \"['Drama', 'Supernatural', 'Suspense']\",\n",
       " \"['Drama', 'Suspense']\",\n",
       " \"['Fantasy', 'Ecchi']\",\n",
       " \"['Fantasy', 'Gourmet', 'Slice of Life']\",\n",
       " \"['Fantasy', 'Mystery', 'Supernatural']\",\n",
       " \"['Fantasy', 'Romance']\",\n",
       " \"['Fantasy', 'Sci-Fi']\",\n",
       " \"['Fantasy', 'Slice of Life']\",\n",
       " \"['Fantasy', 'Supernatural']\",\n",
       " \"['Gourmet', 'Ecchi']\",\n",
       " \"['Gourmet', 'Slice of Life']\",\n",
       " \"['Horror', 'Mystery', 'Slice of Life']\",\n",
       " \"['Horror', 'Mystery', 'Supernatural', 'Suspense']\",\n",
       " \"['Horror', 'Mystery', 'Supernatural']\",\n",
       " \"['Horror', 'Supernatural']\",\n",
       " \"['Mystery', 'Romance', 'Sci-Fi']\",\n",
       " \"['Mystery', 'Romance', 'Slice of Life']\",\n",
       " \"['Mystery', 'Romance', 'Supernatural']\",\n",
       " \"['Mystery', 'Sci-Fi', 'Supernatural']\",\n",
       " \"['Mystery', 'Sci-Fi', 'Suspense']\",\n",
       " \"['Mystery', 'Sci-Fi']\",\n",
       " \"['Mystery', 'Supernatural']\",\n",
       " \"['Romance', 'Slice of Life']\",\n",
       " \"['Romance', 'Supernatural']\",\n",
       " \"['Sci-Fi', 'Sports']\",\n",
       " \"['Slice of Life', 'Sports']\",\n",
       " \"['Slice of Life', 'Supernatural']\",\n",
       " '[]'}"
      ]
     },
     "execution_count": 93,
     "metadata": {},
     "output_type": "execute_result"
    }
   ],
   "source": [
    "set(genre)"
   ]
  },
  {
   "cell_type": "markdown",
   "id": "dad62529",
   "metadata": {},
   "source": [
    "PART 2: RECOMMENDATION SYSTEM- coming soon"
   ]
  },
  {
   "cell_type": "markdown",
   "id": "35371975",
   "metadata": {},
   "source": [
    "GitHub: [Tarun R Jain](https://github.com/lucifertrj)"
   ]
  },
  {
   "cell_type": "code",
   "execution_count": null,
   "id": "c2d7631e",
   "metadata": {},
   "outputs": [],
   "source": []
  }
 ],
 "metadata": {
  "kernelspec": {
   "display_name": "Python 3 (ipykernel)",
   "language": "python",
   "name": "python3"
  },
  "language_info": {
   "codemirror_mode": {
    "name": "ipython",
    "version": 3
   },
   "file_extension": ".py",
   "mimetype": "text/x-python",
   "name": "python",
   "nbconvert_exporter": "python",
   "pygments_lexer": "ipython3",
   "version": "3.10.4"
  }
 },
 "nbformat": 4,
 "nbformat_minor": 5
}
