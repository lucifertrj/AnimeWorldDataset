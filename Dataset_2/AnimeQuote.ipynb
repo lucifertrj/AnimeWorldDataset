{
 "cells": [
  {
   "cell_type": "code",
   "execution_count": 237,
   "id": "197a6eef",
   "metadata": {},
   "outputs": [],
   "source": [
    "import pandas as pd\n",
    "import requests\n",
    "import re\n",
    "from bs4 import BeautifulSoup\n",
    "import numpy as np"
   ]
  },
  {
   "cell_type": "code",
   "execution_count": 238,
   "id": "bab693a4",
   "metadata": {},
   "outputs": [],
   "source": [
    "URL = \"https://fictionhorizon.com/best-anime-quotes/\""
   ]
  },
  {
   "cell_type": "code",
   "execution_count": 239,
   "id": "99f76d6b",
   "metadata": {},
   "outputs": [],
   "source": [
    "r = requests.get(URL)"
   ]
  },
  {
   "cell_type": "code",
   "execution_count": 240,
   "id": "943c08af",
   "metadata": {},
   "outputs": [
    {
     "data": {
      "text/plain": [
       "200"
      ]
     },
     "execution_count": 240,
     "metadata": {},
     "output_type": "execute_result"
    }
   ],
   "source": [
    "r.status_code"
   ]
  },
  {
   "cell_type": "code",
   "execution_count": 241,
   "id": "deab78c1",
   "metadata": {},
   "outputs": [],
   "source": [
    "soup = BeautifulSoup(r.content,'html.parser')"
   ]
  },
  {
   "cell_type": "code",
   "execution_count": 242,
   "id": "7e25cc42",
   "metadata": {},
   "outputs": [],
   "source": [
    "div_container = soup.find_all('blockquote',class_=\"wp-block-quote\")"
   ]
  },
  {
   "cell_type": "code",
   "execution_count": 243,
   "id": "3c7fc066",
   "metadata": {},
   "outputs": [
    {
     "data": {
      "text/plain": [
       "101"
      ]
     },
     "execution_count": 243,
     "metadata": {},
     "output_type": "execute_result"
    }
   ],
   "source": [
    "len(div_container)"
   ]
  },
  {
   "cell_type": "code",
   "execution_count": 244,
   "id": "77db09e6",
   "metadata": {},
   "outputs": [],
   "source": [
    "quote = []\n",
    "anime = []\n",
    "character = []\n",
    "for i in div_container:\n",
    "    try:\n",
    "        cite_tag = i.find(\"cite\")\n",
    "        quote.append(i.find('strong').text[1:-1])\n",
    "        if '(' in cite_tag.text:\n",
    "            char,name = cite_tag.text.split('(')\n",
    "            character.append(\" \".join(re.findall(\"[a-zA-Z]+\", char)))\n",
    "            anime.append(\" \".join(re.findall(\"[a-zA-Z]+\",name)))\n",
    "        else:\n",
    "            character.append(\" \".join(re.findall(\"[a-zA-Z]+\", cite_tag.text)))\n",
    "            anime.append(np.nan)\n",
    "    except AttributeError:\n",
    "        error_text,anime_character = i.find('strong').text.split('– ')\n",
    "        quote.pop()\n",
    "        quote.append(error_text)\n",
    "        err_char,err_name = anime_character.split('(')\n",
    "        character.append(err_char)\n",
    "        anime.append(err_name[:-1])\n",
    "    "
   ]
  },
  {
   "cell_type": "code",
   "execution_count": 245,
   "id": "796b8ea1",
   "metadata": {},
   "outputs": [],
   "source": [
    "anime[20] = \"Trigun\""
   ]
  },
  {
   "cell_type": "code",
   "execution_count": 246,
   "id": "e3635225",
   "metadata": {},
   "outputs": [],
   "source": [
    "anime[19] = \"Rurouni Kenshin: Meiji Kenkaku Romantan\""
   ]
  },
  {
   "cell_type": "code",
   "execution_count": 247,
   "id": "77662508",
   "metadata": {},
   "outputs": [],
   "source": [
    "df = pd.DataFrame({'Quote':quote,'Character':character,'Anime':anime})"
   ]
  },
  {
   "cell_type": "code",
   "execution_count": 248,
   "id": "610863eb",
   "metadata": {},
   "outputs": [
    {
     "data": {
      "text/html": [
       "<div>\n",
       "<style scoped>\n",
       "    .dataframe tbody tr th:only-of-type {\n",
       "        vertical-align: middle;\n",
       "    }\n",
       "\n",
       "    .dataframe tbody tr th {\n",
       "        vertical-align: top;\n",
       "    }\n",
       "\n",
       "    .dataframe thead th {\n",
       "        text-align: right;\n",
       "    }\n",
       "</style>\n",
       "<table border=\"1\" class=\"dataframe\">\n",
       "  <thead>\n",
       "    <tr style=\"text-align: right;\">\n",
       "      <th></th>\n",
       "      <th>Quote</th>\n",
       "      <th>Character</th>\n",
       "      <th>Anime</th>\n",
       "    </tr>\n",
       "  </thead>\n",
       "  <tbody>\n",
       "    <tr>\n",
       "      <th>47</th>\n",
       "      <td>You should never give up on life, no matter ho...</td>\n",
       "      <td>Canaan</td>\n",
       "      <td>NaN</td>\n",
       "    </tr>\n",
       "  </tbody>\n",
       "</table>\n",
       "</div>"
      ],
      "text/plain": [
       "                                                Quote Character Anime\n",
       "47  You should never give up on life, no matter ho...    Canaan   NaN"
      ]
     },
     "execution_count": 248,
     "metadata": {},
     "output_type": "execute_result"
    }
   ],
   "source": [
    "df[df['Anime'].isna()]"
   ]
  },
  {
   "cell_type": "code",
   "execution_count": 249,
   "id": "4f584c82",
   "metadata": {},
   "outputs": [],
   "source": [
    "df.to_csv(\"AnimeQuote100.csv\",index=False)"
   ]
  },
  {
   "cell_type": "code",
   "execution_count": 250,
   "id": "81c85762",
   "metadata": {},
   "outputs": [],
   "source": [
    "l = pd.read_csv(\"AnimeQuote100.csv\")"
   ]
  },
  {
   "cell_type": "code",
   "execution_count": 251,
   "id": "a8253912",
   "metadata": {},
   "outputs": [
    {
     "data": {
      "text/html": [
       "<div>\n",
       "<style scoped>\n",
       "    .dataframe tbody tr th:only-of-type {\n",
       "        vertical-align: middle;\n",
       "    }\n",
       "\n",
       "    .dataframe tbody tr th {\n",
       "        vertical-align: top;\n",
       "    }\n",
       "\n",
       "    .dataframe thead th {\n",
       "        text-align: right;\n",
       "    }\n",
       "</style>\n",
       "<table border=\"1\" class=\"dataframe\">\n",
       "  <thead>\n",
       "    <tr style=\"text-align: right;\">\n",
       "      <th></th>\n",
       "      <th>Quote</th>\n",
       "      <th>Character</th>\n",
       "      <th>Anime</th>\n",
       "    </tr>\n",
       "  </thead>\n",
       "  <tbody>\n",
       "    <tr>\n",
       "      <th>1</th>\n",
       "      <td>If you don’t take risks, you can’t create a fu...</td>\n",
       "      <td>Monkey D Luffy</td>\n",
       "      <td>One Piece</td>\n",
       "    </tr>\n",
       "    <tr>\n",
       "      <th>63</th>\n",
       "      <td>The world isn’t perfect. But it’s there for us...</td>\n",
       "      <td>Roy Mustang</td>\n",
       "      <td>Full Metal Alchemist</td>\n",
       "    </tr>\n",
       "    <tr>\n",
       "      <th>20</th>\n",
       "      <td>Every journey begins with a single step. We ju...</td>\n",
       "      <td>Milly Thompson</td>\n",
       "      <td>Trigun</td>\n",
       "    </tr>\n",
       "  </tbody>\n",
       "</table>\n",
       "</div>"
      ],
      "text/plain": [
       "                                                Quote       Character  \\\n",
       "1   If you don’t take risks, you can’t create a fu...  Monkey D Luffy   \n",
       "63  The world isn’t perfect. But it’s there for us...     Roy Mustang   \n",
       "20  Every journey begins with a single step. We ju...  Milly Thompson   \n",
       "\n",
       "                   Anime  \n",
       "1              One Piece  \n",
       "63  Full Metal Alchemist  \n",
       "20                Trigun  "
      ]
     },
     "execution_count": 251,
     "metadata": {},
     "output_type": "execute_result"
    }
   ],
   "source": [
    "l.sample(3)"
   ]
  },
  {
   "cell_type": "code",
   "execution_count": 252,
   "id": "a885a3ea",
   "metadata": {},
   "outputs": [],
   "source": [
    "part2 = \"https://screenrant.com/attack-titan-best-quotes/\""
   ]
  },
  {
   "cell_type": "code",
   "execution_count": 253,
   "id": "b902c045",
   "metadata": {},
   "outputs": [],
   "source": [
    "req = requests.get(part2)"
   ]
  },
  {
   "cell_type": "code",
   "execution_count": 254,
   "id": "53049780",
   "metadata": {},
   "outputs": [],
   "source": [
    "soup2 = BeautifulSoup(req.content,'html.parser')"
   ]
  },
  {
   "cell_type": "code",
   "execution_count": 255,
   "id": "224641e5",
   "metadata": {},
   "outputs": [],
   "source": [
    "cont = soup2.find('div',class_='w-content')"
   ]
  },
  {
   "cell_type": "code",
   "execution_count": 256,
   "id": "b6db5419",
   "metadata": {},
   "outputs": [],
   "source": [
    "section = cont.find(\"section\",class_=\"article-body\")"
   ]
  },
  {
   "cell_type": "code",
   "execution_count": 257,
   "id": "5999a3df",
   "metadata": {},
   "outputs": [],
   "source": [
    "heading = section.find_all('h3')"
   ]
  },
  {
   "cell_type": "code",
   "execution_count": 258,
   "id": "f2c03ebf",
   "metadata": {},
   "outputs": [],
   "source": [
    "aot_char = []\n",
    "aot_quote = []\n",
    "for name in heading:\n",
    "    anime_char,char_quote = name.text.split(':')\n",
    "    aot_char.append(anime_char)\n",
    "    aot_quote.append(\" \".join(re.findall(\"[a-zA-Z]+\", char_quote)))"
   ]
  },
  {
   "cell_type": "code",
   "execution_count": 259,
   "id": "5f0c26b4",
   "metadata": {},
   "outputs": [],
   "source": [
    "aot_df = pd.DataFrame({\"Quote\":aot_quote,\"Character\":aot_char,\"Anime\":\"Attack on Titan\"})"
   ]
  },
  {
   "cell_type": "code",
   "execution_count": 260,
   "id": "fd91686b",
   "metadata": {},
   "outputs": [
    {
     "data": {
      "text/html": [
       "<div>\n",
       "<style scoped>\n",
       "    .dataframe tbody tr th:only-of-type {\n",
       "        vertical-align: middle;\n",
       "    }\n",
       "\n",
       "    .dataframe tbody tr th {\n",
       "        vertical-align: top;\n",
       "    }\n",
       "\n",
       "    .dataframe thead th {\n",
       "        text-align: right;\n",
       "    }\n",
       "</style>\n",
       "<table border=\"1\" class=\"dataframe\">\n",
       "  <thead>\n",
       "    <tr style=\"text-align: right;\">\n",
       "      <th></th>\n",
       "      <th>Quote</th>\n",
       "      <th>Character</th>\n",
       "      <th>Anime</th>\n",
       "    </tr>\n",
       "  </thead>\n",
       "  <tbody>\n",
       "    <tr>\n",
       "      <th>59</th>\n",
       "      <td>The moment you think of giving up, think of th...</td>\n",
       "      <td>Natsu Dragneel</td>\n",
       "      <td>Fairy Tail</td>\n",
       "    </tr>\n",
       "  </tbody>\n",
       "</table>\n",
       "</div>"
      ],
      "text/plain": [
       "                                                Quote       Character  \\\n",
       "59  The moment you think of giving up, think of th...  Natsu Dragneel   \n",
       "\n",
       "         Anime  \n",
       "59  Fairy Tail  "
      ]
     },
     "execution_count": 260,
     "metadata": {},
     "output_type": "execute_result"
    }
   ],
   "source": [
    "df.sample(1)"
   ]
  },
  {
   "cell_type": "code",
   "execution_count": 261,
   "id": "2a480a1b",
   "metadata": {},
   "outputs": [],
   "source": [
    "df = pd.concat([df,aot_df],ignore_index=True)"
   ]
  },
  {
   "cell_type": "code",
   "execution_count": 264,
   "id": "a1579c3a",
   "metadata": {},
   "outputs": [
    {
     "data": {
      "text/html": [
       "<div>\n",
       "<style scoped>\n",
       "    .dataframe tbody tr th:only-of-type {\n",
       "        vertical-align: middle;\n",
       "    }\n",
       "\n",
       "    .dataframe tbody tr th {\n",
       "        vertical-align: top;\n",
       "    }\n",
       "\n",
       "    .dataframe thead th {\n",
       "        text-align: right;\n",
       "    }\n",
       "</style>\n",
       "<table border=\"1\" class=\"dataframe\">\n",
       "  <thead>\n",
       "    <tr style=\"text-align: right;\">\n",
       "      <th></th>\n",
       "      <th>Quote</th>\n",
       "      <th>Character</th>\n",
       "      <th>Anime</th>\n",
       "    </tr>\n",
       "  </thead>\n",
       "  <tbody>\n",
       "    <tr>\n",
       "      <th>60</th>\n",
       "      <td>Don’t give up, there’s no shame in falling dow...</td>\n",
       "      <td>Shintaro Midorima</td>\n",
       "      <td>Kuroko No Basket</td>\n",
       "    </tr>\n",
       "    <tr>\n",
       "      <th>61</th>\n",
       "      <td>No matter how hard or impossible it is, never ...</td>\n",
       "      <td>Monkey D Luffy</td>\n",
       "      <td>One Piece</td>\n",
       "    </tr>\n",
       "    <tr>\n",
       "      <th>62</th>\n",
       "      <td>Life is not a game of luck. If you wanna win, ...</td>\n",
       "      <td>Sora</td>\n",
       "      <td>No Game No Life</td>\n",
       "    </tr>\n",
       "    <tr>\n",
       "      <th>63</th>\n",
       "      <td>The world isn’t perfect. But it’s there for us...</td>\n",
       "      <td>Roy Mustang</td>\n",
       "      <td>Full Metal Alchemist</td>\n",
       "    </tr>\n",
       "    <tr>\n",
       "      <th>64</th>\n",
       "      <td>Fear is not evil. It tells you what your weakn...</td>\n",
       "      <td>Gildarts Clive</td>\n",
       "      <td>Fairy Tail</td>\n",
       "    </tr>\n",
       "    <tr>\n",
       "      <th>65</th>\n",
       "      <td>To know sorrow is not terrifying. What is terr...</td>\n",
       "      <td>Matsumoto Rangiku</td>\n",
       "      <td>Bleach</td>\n",
       "    </tr>\n",
       "    <tr>\n",
       "      <th>66</th>\n",
       "      <td>Knowing you’re different is only the beginning...</td>\n",
       "      <td>Miss Kobayashi</td>\n",
       "      <td>Dragon Maid</td>\n",
       "    </tr>\n",
       "    <tr>\n",
       "      <th>67</th>\n",
       "      <td>Don’t be so quick to throw away your life. No ...</td>\n",
       "      <td>Clare</td>\n",
       "      <td>Claymore</td>\n",
       "    </tr>\n",
       "    <tr>\n",
       "      <th>68</th>\n",
       "      <td>The world’s not perfect, but it’s there for us...</td>\n",
       "      <td>Roy Mustang</td>\n",
       "      <td>Fullmetal Alchemist</td>\n",
       "    </tr>\n",
       "    <tr>\n",
       "      <th>69</th>\n",
       "      <td>We are all like fireworks: we climb, we shine ...</td>\n",
       "      <td>Hitsugaya Toshiro</td>\n",
       "      <td>Bleach</td>\n",
       "    </tr>\n",
       "    <tr>\n",
       "      <th>70</th>\n",
       "      <td>If nobody cares to accept you and wants you in...</td>\n",
       "      <td>Alibaba Saluja</td>\n",
       "      <td>Magi</td>\n",
       "    </tr>\n",
       "    <tr>\n",
       "      <th>71</th>\n",
       "      <td>When you hit the point of no return, that’s th...</td>\n",
       "      <td>Hinata Miyake</td>\n",
       "      <td>A Place Further than the Universe</td>\n",
       "    </tr>\n",
       "    <tr>\n",
       "      <th>72</th>\n",
       "      <td>Those who stand at the top determine what’s wr...</td>\n",
       "      <td>Don Quixote Doflamingo</td>\n",
       "      <td>One Piece</td>\n",
       "    </tr>\n",
       "    <tr>\n",
       "      <th>73</th>\n",
       "      <td>A person grows up when he’s able to overcome h...</td>\n",
       "      <td>Jiraiya</td>\n",
       "      <td>Naruto</td>\n",
       "    </tr>\n",
       "    <tr>\n",
       "      <th>74</th>\n",
       "      <td>Who decides limits? And based on what? You sai...</td>\n",
       "      <td>Saitama</td>\n",
       "      <td>One Punch Man</td>\n",
       "    </tr>\n",
       "    <tr>\n",
       "      <th>75</th>\n",
       "      <td>Mistakes are not shackles that halt one from s...</td>\n",
       "      <td>Mavis Vermillion</td>\n",
       "      <td>Fairy Tail</td>\n",
       "    </tr>\n",
       "  </tbody>\n",
       "</table>\n",
       "</div>"
      ],
      "text/plain": [
       "                                                Quote               Character  \\\n",
       "60  Don’t give up, there’s no shame in falling dow...       Shintaro Midorima   \n",
       "61  No matter how hard or impossible it is, never ...          Monkey D Luffy   \n",
       "62  Life is not a game of luck. If you wanna win, ...                    Sora   \n",
       "63  The world isn’t perfect. But it’s there for us...             Roy Mustang   \n",
       "64  Fear is not evil. It tells you what your weakn...          Gildarts Clive   \n",
       "65  To know sorrow is not terrifying. What is terr...       Matsumoto Rangiku   \n",
       "66  Knowing you’re different is only the beginning...          Miss Kobayashi   \n",
       "67  Don’t be so quick to throw away your life. No ...                   Clare   \n",
       "68  The world’s not perfect, but it’s there for us...             Roy Mustang   \n",
       "69  We are all like fireworks: we climb, we shine ...       Hitsugaya Toshiro   \n",
       "70  If nobody cares to accept you and wants you in...          Alibaba Saluja   \n",
       "71  When you hit the point of no return, that’s th...           Hinata Miyake   \n",
       "72  Those who stand at the top determine what’s wr...  Don Quixote Doflamingo   \n",
       "73  A person grows up when he’s able to overcome h...                 Jiraiya   \n",
       "74  Who decides limits? And based on what? You sai...                 Saitama   \n",
       "75  Mistakes are not shackles that halt one from s...        Mavis Vermillion   \n",
       "\n",
       "                                Anime  \n",
       "60                   Kuroko No Basket  \n",
       "61                          One Piece  \n",
       "62                    No Game No Life  \n",
       "63               Full Metal Alchemist  \n",
       "64                         Fairy Tail  \n",
       "65                             Bleach  \n",
       "66                        Dragon Maid  \n",
       "67                           Claymore  \n",
       "68                Fullmetal Alchemist  \n",
       "69                             Bleach  \n",
       "70                               Magi  \n",
       "71  A Place Further than the Universe  \n",
       "72                          One Piece  \n",
       "73                             Naruto  \n",
       "74                      One Punch Man  \n",
       "75                         Fairy Tail  "
      ]
     },
     "execution_count": 264,
     "metadata": {},
     "output_type": "execute_result"
    }
   ],
   "source": [
    "df.loc[60:75]"
   ]
  },
  {
   "cell_type": "code",
   "execution_count": 265,
   "id": "8d49fc97",
   "metadata": {},
   "outputs": [
    {
     "data": {
      "text/plain": [
       "(111, 3)"
      ]
     },
     "execution_count": 265,
     "metadata": {},
     "output_type": "execute_result"
    }
   ],
   "source": [
    "df.shape"
   ]
  },
  {
   "cell_type": "code",
   "execution_count": 227,
   "id": "cd6e473d",
   "metadata": {},
   "outputs": [],
   "source": [
    "haikyuu = \"https://www.upgradingoneself.com/haikyuu-quotes/\""
   ]
  },
  {
   "cell_type": "code",
   "execution_count": 267,
   "id": "4a8bce1e",
   "metadata": {},
   "outputs": [],
   "source": [
    "soup3 = BeautifulSoup(requests.get(haikyuu).content,'html.parser')"
   ]
  },
  {
   "cell_type": "code",
   "execution_count": 268,
   "id": "328a6b95",
   "metadata": {},
   "outputs": [],
   "source": [
    "div = soup3.find('div',class_=\"entry-content clear\")"
   ]
  },
  {
   "cell_type": "code",
   "execution_count": 274,
   "id": "be1ffbfb",
   "metadata": {},
   "outputs": [],
   "source": [
    "h4 = div.find_all('h4')"
   ]
  },
  {
   "cell_type": "code",
   "execution_count": 306,
   "id": "d2c69d74",
   "metadata": {},
   "outputs": [],
   "source": [
    "haikyuu_quote = []\n",
    "haikyuu_characters = []\n",
    "for i in h4[2:22]:\n",
    "    if len(i.text)>1:\n",
    "        haik_quo,haik_char = i.text.split('~')\n",
    "        haikyuu_characters.append(\" \".join(re.findall('[a-zA-Z]+',haik_char)))\n",
    "        haikyuu_quote.append(\" \".join(re.findall('[a-zA-Z]+',haik_quo)))"
   ]
  },
  {
   "cell_type": "code",
   "execution_count": 307,
   "id": "815e260d",
   "metadata": {},
   "outputs": [
    {
     "data": {
      "text/plain": [
       "['Do you need a reason to not want to lose',\n",
       " 'Being the best decoy ever is as cool as being the ace',\n",
       " 'You can fly even higher',\n",
       " 'If they adjust to me I have to adjust in turn Whoever stops adjusting won t be able to continue forward',\n",
       " 'The last ones standing are the victors Only the strongest If you want to be the last one standing become strong',\n",
       " 'Life s a bore if you don t challenge yourself',\n",
       " 'There are some flowers you only see when you take detours',\n",
       " 'Being weak means that there is room to grow',\n",
       " 'Today might be the chance to grasp the chance to let your talent bloom',\n",
       " 'If you re gonna hit it hit it until it breaks']"
      ]
     },
     "execution_count": 307,
     "metadata": {},
     "output_type": "execute_result"
    }
   ],
   "source": [
    "haikyuu_quote"
   ]
  },
  {
   "cell_type": "code",
   "execution_count": 308,
   "id": "36196d57",
   "metadata": {},
   "outputs": [
    {
     "data": {
      "text/plain": [
       "['Shoyo Hinata',\n",
       " 'Tobio Kageyama',\n",
       " 'Tobio Kageyama',\n",
       " 'Tobio Kageyama',\n",
       " 'Tobio Kageyama',\n",
       " 'Yuu Nishinoya',\n",
       " 'Tanaka Saeko',\n",
       " 'Ittetsu Takeda',\n",
       " 'Tooru Oikawa',\n",
       " 'Tooru Oikawa']"
      ]
     },
     "execution_count": 308,
     "metadata": {},
     "output_type": "execute_result"
    }
   ],
   "source": [
    "haikyuu_characters"
   ]
  },
  {
   "cell_type": "code",
   "execution_count": 310,
   "id": "c8d6a89c",
   "metadata": {},
   "outputs": [],
   "source": [
    "haikyu_df = pd.DataFrame({\"Quote\":haikyuu_quote,\"Character\":haikyuu_characters,\"Anime\":\"Haikyuu\"})"
   ]
  },
  {
   "cell_type": "code",
   "execution_count": 311,
   "id": "c3090b77",
   "metadata": {},
   "outputs": [],
   "source": [
    "final_df = pd.concat([df,haikyu_df],ignore_index=True)"
   ]
  },
  {
   "cell_type": "code",
   "execution_count": 312,
   "id": "8f0b3dbd",
   "metadata": {},
   "outputs": [
    {
     "data": {
      "text/plain": [
       "(121, 3)"
      ]
     },
     "execution_count": 312,
     "metadata": {},
     "output_type": "execute_result"
    }
   ],
   "source": [
    "final_df.shape"
   ]
  },
  {
   "cell_type": "code",
   "execution_count": 314,
   "id": "29356003",
   "metadata": {},
   "outputs": [],
   "source": [
    "final_df.to_csv(\"AnimeQuotes.csv\",index=False)"
   ]
  }
 ],
 "metadata": {
  "kernelspec": {
   "display_name": "Python 3 (ipykernel)",
   "language": "python",
   "name": "python3"
  },
  "language_info": {
   "codemirror_mode": {
    "name": "ipython",
    "version": 3
   },
   "file_extension": ".py",
   "mimetype": "text/x-python",
   "name": "python",
   "nbconvert_exporter": "python",
   "pygments_lexer": "ipython3",
   "version": "3.10.4"
  }
 },
 "nbformat": 4,
 "nbformat_minor": 5
}
